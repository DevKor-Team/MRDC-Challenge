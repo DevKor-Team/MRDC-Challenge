{
 "cells": [
  {
   "cell_type": "code",
   "execution_count": 1,
   "id": "d28dc47b",
   "metadata": {
    "_cell_guid": "b1076dfc-b9ad-4769-8c92-a6c4dae69d19",
    "_uuid": "8f2839f25d086af736a60e9eeb907d3b93b6e0e5",
    "execution": {
     "iopub.execute_input": "2022-11-15T08:57:28.904550Z",
     "iopub.status.busy": "2022-11-15T08:57:28.903379Z",
     "iopub.status.idle": "2022-11-15T08:57:30.223251Z",
     "shell.execute_reply": "2022-11-15T08:57:30.221866Z"
    },
    "papermill": {
     "duration": 1.331196,
     "end_time": "2022-11-15T08:57:30.226861",
     "exception": false,
     "start_time": "2022-11-15T08:57:28.895665",
     "status": "completed"
    },
    "tags": []
   },
   "outputs": [],
   "source": [
    "import os\n",
    "import pandas as pd\n",
    "from sklearn.model_selection import train_test_split"
   ]
  },
  {
   "cell_type": "code",
   "execution_count": 2,
   "id": "3d0f0eb8",
   "metadata": {
    "execution": {
     "iopub.execute_input": "2022-11-15T08:57:30.241571Z",
     "iopub.status.busy": "2022-11-15T08:57:30.241118Z",
     "iopub.status.idle": "2022-11-15T08:57:30.270508Z",
     "shell.execute_reply": "2022-11-15T08:57:30.269134Z"
    },
    "papermill": {
     "duration": 0.04165,
     "end_time": "2022-11-15T08:57:30.273654",
     "exception": false,
     "start_time": "2022-11-15T08:57:30.232004",
     "status": "completed"
    },
    "tags": []
   },
   "outputs": [],
   "source": [
    "OUTPUT_DIR = \"./\"\n",
    "if not os.path.exists(OUTPUT_DIR):\n",
    "    os.makedirs(OUTPUT_DIR)\n",
    "    \n",
    "BASE_DIR = \"../input/rice-disease-classification/archive\"\n",
    "\n",
    "train = pd.read_csv(os.path.join(BASE_DIR, 'Train.csv'))"
   ]
  },
  {
   "cell_type": "code",
   "execution_count": 3,
   "id": "c6aee056",
   "metadata": {
    "execution": {
     "iopub.execute_input": "2022-11-15T08:57:30.285224Z",
     "iopub.status.busy": "2022-11-15T08:57:30.284803Z",
     "iopub.status.idle": "2022-11-15T08:57:30.309517Z",
     "shell.execute_reply": "2022-11-15T08:57:30.308149Z"
    },
    "papermill": {
     "duration": 0.033543,
     "end_time": "2022-11-15T08:57:30.312247",
     "exception": false,
     "start_time": "2022-11-15T08:57:30.278704",
     "status": "completed"
    },
    "tags": []
   },
   "outputs": [
    {
     "data": {
      "text/html": [
       "<div>\n",
       "<style scoped>\n",
       "    .dataframe tbody tr th:only-of-type {\n",
       "        vertical-align: middle;\n",
       "    }\n",
       "\n",
       "    .dataframe tbody tr th {\n",
       "        vertical-align: top;\n",
       "    }\n",
       "\n",
       "    .dataframe thead th {\n",
       "        text-align: right;\n",
       "    }\n",
       "</style>\n",
       "<table border=\"1\" class=\"dataframe\">\n",
       "  <thead>\n",
       "    <tr style=\"text-align: right;\">\n",
       "      <th></th>\n",
       "      <th>Image_id</th>\n",
       "      <th>Label</th>\n",
       "    </tr>\n",
       "  </thead>\n",
       "  <tbody>\n",
       "    <tr>\n",
       "      <th>0</th>\n",
       "      <td>id_004wknd7qd.jpg</td>\n",
       "      <td>blast</td>\n",
       "    </tr>\n",
       "    <tr>\n",
       "      <th>1</th>\n",
       "      <td>id_004wknd7qd_rgn.jpg</td>\n",
       "      <td>blast</td>\n",
       "    </tr>\n",
       "    <tr>\n",
       "      <th>2</th>\n",
       "      <td>id_005sitfgr2.jpg</td>\n",
       "      <td>brown</td>\n",
       "    </tr>\n",
       "    <tr>\n",
       "      <th>3</th>\n",
       "      <td>id_005sitfgr2_rgn.jpg</td>\n",
       "      <td>brown</td>\n",
       "    </tr>\n",
       "    <tr>\n",
       "      <th>4</th>\n",
       "      <td>id_00stp9t6m6.jpg</td>\n",
       "      <td>blast</td>\n",
       "    </tr>\n",
       "  </tbody>\n",
       "</table>\n",
       "</div>"
      ],
      "text/plain": [
       "                Image_id  Label\n",
       "0      id_004wknd7qd.jpg  blast\n",
       "1  id_004wknd7qd_rgn.jpg  blast\n",
       "2      id_005sitfgr2.jpg  brown\n",
       "3  id_005sitfgr2_rgn.jpg  brown\n",
       "4      id_00stp9t6m6.jpg  blast"
      ]
     },
     "metadata": {},
     "output_type": "display_data"
    }
   ],
   "source": [
    "display(train.head())"
   ]
  },
  {
   "cell_type": "code",
   "execution_count": 4,
   "id": "53d819dd",
   "metadata": {
    "execution": {
     "iopub.execute_input": "2022-11-15T08:57:30.322860Z",
     "iopub.status.busy": "2022-11-15T08:57:30.322425Z",
     "iopub.status.idle": "2022-11-15T08:57:30.333600Z",
     "shell.execute_reply": "2022-11-15T08:57:30.332618Z"
    },
    "papermill": {
     "duration": 0.019423,
     "end_time": "2022-11-15T08:57:30.336281",
     "exception": false,
     "start_time": "2022-11-15T08:57:30.316858",
     "status": "completed"
    },
    "tags": []
   },
   "outputs": [],
   "source": [
    "# splitting the dataset\n",
    "# train : test = 8 : 2\n",
    "train_names, test_names = train_test_split(train, test_size = 0.2, random_state = 42, shuffle = True)\n",
    "train_names = train_names.reset_index(drop=True)\n",
    "test_names = test_names.reset_index(drop=True)"
   ]
  },
  {
   "cell_type": "code",
   "execution_count": 5,
   "id": "6bf5f2e7",
   "metadata": {
    "execution": {
     "iopub.execute_input": "2022-11-15T08:57:30.347669Z",
     "iopub.status.busy": "2022-11-15T08:57:30.347239Z",
     "iopub.status.idle": "2022-11-15T08:57:30.362117Z",
     "shell.execute_reply": "2022-11-15T08:57:30.360828Z"
    },
    "papermill": {
     "duration": 0.023728,
     "end_time": "2022-11-15T08:57:30.364706",
     "exception": false,
     "start_time": "2022-11-15T08:57:30.340978",
     "status": "completed"
    },
    "tags": []
   },
   "outputs": [
    {
     "data": {
      "text/html": [
       "<div>\n",
       "<style scoped>\n",
       "    .dataframe tbody tr th:only-of-type {\n",
       "        vertical-align: middle;\n",
       "    }\n",
       "\n",
       "    .dataframe tbody tr th {\n",
       "        vertical-align: top;\n",
       "    }\n",
       "\n",
       "    .dataframe thead th {\n",
       "        text-align: right;\n",
       "    }\n",
       "</style>\n",
       "<table border=\"1\" class=\"dataframe\">\n",
       "  <thead>\n",
       "    <tr style=\"text-align: right;\">\n",
       "      <th></th>\n",
       "      <th>Image_id</th>\n",
       "      <th>Label</th>\n",
       "    </tr>\n",
       "  </thead>\n",
       "  <tbody>\n",
       "    <tr>\n",
       "      <th>0</th>\n",
       "      <td>id_0sil0chxq2.jpg</td>\n",
       "      <td>brown</td>\n",
       "    </tr>\n",
       "    <tr>\n",
       "      <th>1</th>\n",
       "      <td>id_ijed267eqx_rgn.jpg</td>\n",
       "      <td>healthy</td>\n",
       "    </tr>\n",
       "    <tr>\n",
       "      <th>2</th>\n",
       "      <td>id_cowrg71851_rgn.jpg</td>\n",
       "      <td>blast</td>\n",
       "    </tr>\n",
       "    <tr>\n",
       "      <th>3</th>\n",
       "      <td>id_miimicy82t.jpg</td>\n",
       "      <td>healthy</td>\n",
       "    </tr>\n",
       "    <tr>\n",
       "      <th>4</th>\n",
       "      <td>id_t27yi6h5le_rgn.jpg</td>\n",
       "      <td>brown</td>\n",
       "    </tr>\n",
       "    <tr>\n",
       "      <th>...</th>\n",
       "      <td>...</td>\n",
       "      <td>...</td>\n",
       "    </tr>\n",
       "    <tr>\n",
       "      <th>4267</th>\n",
       "      <td>id_krww0zq9ve.jpg</td>\n",
       "      <td>blast</td>\n",
       "    </tr>\n",
       "    <tr>\n",
       "      <th>4268</th>\n",
       "      <td>id_pewcj20st6.jpg</td>\n",
       "      <td>brown</td>\n",
       "    </tr>\n",
       "    <tr>\n",
       "      <th>4269</th>\n",
       "      <td>id_z39yt179k3_rgn.jpg</td>\n",
       "      <td>brown</td>\n",
       "    </tr>\n",
       "    <tr>\n",
       "      <th>4270</th>\n",
       "      <td>id_zc7jyiweh2.jpg</td>\n",
       "      <td>healthy</td>\n",
       "    </tr>\n",
       "    <tr>\n",
       "      <th>4271</th>\n",
       "      <td>id_5umfbwak8k.jpg</td>\n",
       "      <td>healthy</td>\n",
       "    </tr>\n",
       "  </tbody>\n",
       "</table>\n",
       "<p>4272 rows × 2 columns</p>\n",
       "</div>"
      ],
      "text/plain": [
       "                   Image_id    Label\n",
       "0         id_0sil0chxq2.jpg    brown\n",
       "1     id_ijed267eqx_rgn.jpg  healthy\n",
       "2     id_cowrg71851_rgn.jpg    blast\n",
       "3         id_miimicy82t.jpg  healthy\n",
       "4     id_t27yi6h5le_rgn.jpg    brown\n",
       "...                     ...      ...\n",
       "4267      id_krww0zq9ve.jpg    blast\n",
       "4268      id_pewcj20st6.jpg    brown\n",
       "4269  id_z39yt179k3_rgn.jpg    brown\n",
       "4270      id_zc7jyiweh2.jpg  healthy\n",
       "4271      id_5umfbwak8k.jpg  healthy\n",
       "\n",
       "[4272 rows x 2 columns]"
      ]
     },
     "metadata": {},
     "output_type": "display_data"
    }
   ],
   "source": [
    "display(train_names)"
   ]
  },
  {
   "cell_type": "code",
   "execution_count": 6,
   "id": "32a9649c",
   "metadata": {
    "execution": {
     "iopub.execute_input": "2022-11-15T08:57:30.375851Z",
     "iopub.status.busy": "2022-11-15T08:57:30.375423Z",
     "iopub.status.idle": "2022-11-15T08:57:30.390321Z",
     "shell.execute_reply": "2022-11-15T08:57:30.388838Z"
    },
    "papermill": {
     "duration": 0.02368,
     "end_time": "2022-11-15T08:57:30.393072",
     "exception": false,
     "start_time": "2022-11-15T08:57:30.369392",
     "status": "completed"
    },
    "tags": []
   },
   "outputs": [
    {
     "data": {
      "text/html": [
       "<div>\n",
       "<style scoped>\n",
       "    .dataframe tbody tr th:only-of-type {\n",
       "        vertical-align: middle;\n",
       "    }\n",
       "\n",
       "    .dataframe tbody tr th {\n",
       "        vertical-align: top;\n",
       "    }\n",
       "\n",
       "    .dataframe thead th {\n",
       "        text-align: right;\n",
       "    }\n",
       "</style>\n",
       "<table border=\"1\" class=\"dataframe\">\n",
       "  <thead>\n",
       "    <tr style=\"text-align: right;\">\n",
       "      <th></th>\n",
       "      <th>Image_id</th>\n",
       "      <th>Label</th>\n",
       "    </tr>\n",
       "  </thead>\n",
       "  <tbody>\n",
       "    <tr>\n",
       "      <th>0</th>\n",
       "      <td>id_mpeaaaamgr_rgn.jpg</td>\n",
       "      <td>blast</td>\n",
       "    </tr>\n",
       "    <tr>\n",
       "      <th>1</th>\n",
       "      <td>id_cz3jnoimvm_rgn.jpg</td>\n",
       "      <td>blast</td>\n",
       "    </tr>\n",
       "    <tr>\n",
       "      <th>2</th>\n",
       "      <td>id_zz6gzk7p97_rgn.jpg</td>\n",
       "      <td>brown</td>\n",
       "    </tr>\n",
       "    <tr>\n",
       "      <th>3</th>\n",
       "      <td>id_spb6rl009i_rgn.jpg</td>\n",
       "      <td>brown</td>\n",
       "    </tr>\n",
       "    <tr>\n",
       "      <th>4</th>\n",
       "      <td>id_179bxdmt6m.jpg</td>\n",
       "      <td>blast</td>\n",
       "    </tr>\n",
       "    <tr>\n",
       "      <th>...</th>\n",
       "      <td>...</td>\n",
       "      <td>...</td>\n",
       "    </tr>\n",
       "    <tr>\n",
       "      <th>1063</th>\n",
       "      <td>id_ummlbkxlh8_rgn.jpg</td>\n",
       "      <td>blast</td>\n",
       "    </tr>\n",
       "    <tr>\n",
       "      <th>1064</th>\n",
       "      <td>id_4g0nlxb3ka.jpg</td>\n",
       "      <td>blast</td>\n",
       "    </tr>\n",
       "    <tr>\n",
       "      <th>1065</th>\n",
       "      <td>id_vo8hmt8hk3_rgn.jpg</td>\n",
       "      <td>blast</td>\n",
       "    </tr>\n",
       "    <tr>\n",
       "      <th>1066</th>\n",
       "      <td>id_qefuurxm4g_rgn.jpg</td>\n",
       "      <td>blast</td>\n",
       "    </tr>\n",
       "    <tr>\n",
       "      <th>1067</th>\n",
       "      <td>id_8xk0bvgwug_rgn.jpg</td>\n",
       "      <td>blast</td>\n",
       "    </tr>\n",
       "  </tbody>\n",
       "</table>\n",
       "<p>1068 rows × 2 columns</p>\n",
       "</div>"
      ],
      "text/plain": [
       "                   Image_id  Label\n",
       "0     id_mpeaaaamgr_rgn.jpg  blast\n",
       "1     id_cz3jnoimvm_rgn.jpg  blast\n",
       "2     id_zz6gzk7p97_rgn.jpg  brown\n",
       "3     id_spb6rl009i_rgn.jpg  brown\n",
       "4         id_179bxdmt6m.jpg  blast\n",
       "...                     ...    ...\n",
       "1063  id_ummlbkxlh8_rgn.jpg  blast\n",
       "1064      id_4g0nlxb3ka.jpg  blast\n",
       "1065  id_vo8hmt8hk3_rgn.jpg  blast\n",
       "1066  id_qefuurxm4g_rgn.jpg  blast\n",
       "1067  id_8xk0bvgwug_rgn.jpg  blast\n",
       "\n",
       "[1068 rows x 2 columns]"
      ]
     },
     "metadata": {},
     "output_type": "display_data"
    }
   ],
   "source": [
    "display(test_names)"
   ]
  },
  {
   "cell_type": "code",
   "execution_count": 7,
   "id": "c383543d",
   "metadata": {
    "execution": {
     "iopub.execute_input": "2022-11-15T08:57:30.407131Z",
     "iopub.status.busy": "2022-11-15T08:57:30.406634Z",
     "iopub.status.idle": "2022-11-15T08:57:30.416623Z",
     "shell.execute_reply": "2022-11-15T08:57:30.415264Z"
    },
    "papermill": {
     "duration": 0.020152,
     "end_time": "2022-11-15T08:57:30.419505",
     "exception": false,
     "start_time": "2022-11-15T08:57:30.399353",
     "status": "completed"
    },
    "tags": []
   },
   "outputs": [],
   "source": [
    "test = test_names.drop(['Label'], axis = 1)"
   ]
  },
  {
   "cell_type": "code",
   "execution_count": 8,
   "id": "4da61ee1",
   "metadata": {
    "execution": {
     "iopub.execute_input": "2022-11-15T08:57:30.431298Z",
     "iopub.status.busy": "2022-11-15T08:57:30.430891Z",
     "iopub.status.idle": "2022-11-15T08:57:30.442248Z",
     "shell.execute_reply": "2022-11-15T08:57:30.440713Z"
    },
    "papermill": {
     "duration": 0.020489,
     "end_time": "2022-11-15T08:57:30.444904",
     "exception": false,
     "start_time": "2022-11-15T08:57:30.424415",
     "status": "completed"
    },
    "tags": []
   },
   "outputs": [
    {
     "data": {
      "text/html": [
       "<div>\n",
       "<style scoped>\n",
       "    .dataframe tbody tr th:only-of-type {\n",
       "        vertical-align: middle;\n",
       "    }\n",
       "\n",
       "    .dataframe tbody tr th {\n",
       "        vertical-align: top;\n",
       "    }\n",
       "\n",
       "    .dataframe thead th {\n",
       "        text-align: right;\n",
       "    }\n",
       "</style>\n",
       "<table border=\"1\" class=\"dataframe\">\n",
       "  <thead>\n",
       "    <tr style=\"text-align: right;\">\n",
       "      <th></th>\n",
       "      <th>Image_id</th>\n",
       "    </tr>\n",
       "  </thead>\n",
       "  <tbody>\n",
       "    <tr>\n",
       "      <th>0</th>\n",
       "      <td>id_mpeaaaamgr_rgn.jpg</td>\n",
       "    </tr>\n",
       "    <tr>\n",
       "      <th>1</th>\n",
       "      <td>id_cz3jnoimvm_rgn.jpg</td>\n",
       "    </tr>\n",
       "    <tr>\n",
       "      <th>2</th>\n",
       "      <td>id_zz6gzk7p97_rgn.jpg</td>\n",
       "    </tr>\n",
       "    <tr>\n",
       "      <th>3</th>\n",
       "      <td>id_spb6rl009i_rgn.jpg</td>\n",
       "    </tr>\n",
       "    <tr>\n",
       "      <th>4</th>\n",
       "      <td>id_179bxdmt6m.jpg</td>\n",
       "    </tr>\n",
       "  </tbody>\n",
       "</table>\n",
       "</div>"
      ],
      "text/plain": [
       "                Image_id\n",
       "0  id_mpeaaaamgr_rgn.jpg\n",
       "1  id_cz3jnoimvm_rgn.jpg\n",
       "2  id_zz6gzk7p97_rgn.jpg\n",
       "3  id_spb6rl009i_rgn.jpg\n",
       "4      id_179bxdmt6m.jpg"
      ]
     },
     "execution_count": 8,
     "metadata": {},
     "output_type": "execute_result"
    }
   ],
   "source": [
    "test.head()"
   ]
  },
  {
   "cell_type": "code",
   "execution_count": 9,
   "id": "fe7ad996",
   "metadata": {
    "execution": {
     "iopub.execute_input": "2022-11-15T08:57:30.457166Z",
     "iopub.status.busy": "2022-11-15T08:57:30.456381Z",
     "iopub.status.idle": "2022-11-15T08:57:30.465213Z",
     "shell.execute_reply": "2022-11-15T08:57:30.463580Z"
    },
    "papermill": {
     "duration": 0.017845,
     "end_time": "2022-11-15T08:57:30.467826",
     "exception": false,
     "start_time": "2022-11-15T08:57:30.449981",
     "status": "completed"
    },
    "tags": []
   },
   "outputs": [],
   "source": [
    "sample_submission = test\n",
    "sample_submission['Label'] = 0"
   ]
  },
  {
   "cell_type": "code",
   "execution_count": 10,
   "id": "0e50f457",
   "metadata": {
    "execution": {
     "iopub.execute_input": "2022-11-15T08:57:30.479811Z",
     "iopub.status.busy": "2022-11-15T08:57:30.479368Z",
     "iopub.status.idle": "2022-11-15T08:57:30.490822Z",
     "shell.execute_reply": "2022-11-15T08:57:30.489568Z"
    },
    "papermill": {
     "duration": 0.020522,
     "end_time": "2022-11-15T08:57:30.493420",
     "exception": false,
     "start_time": "2022-11-15T08:57:30.472898",
     "status": "completed"
    },
    "tags": []
   },
   "outputs": [
    {
     "data": {
      "text/html": [
       "<div>\n",
       "<style scoped>\n",
       "    .dataframe tbody tr th:only-of-type {\n",
       "        vertical-align: middle;\n",
       "    }\n",
       "\n",
       "    .dataframe tbody tr th {\n",
       "        vertical-align: top;\n",
       "    }\n",
       "\n",
       "    .dataframe thead th {\n",
       "        text-align: right;\n",
       "    }\n",
       "</style>\n",
       "<table border=\"1\" class=\"dataframe\">\n",
       "  <thead>\n",
       "    <tr style=\"text-align: right;\">\n",
       "      <th></th>\n",
       "      <th>Image_id</th>\n",
       "      <th>Label</th>\n",
       "    </tr>\n",
       "  </thead>\n",
       "  <tbody>\n",
       "    <tr>\n",
       "      <th>0</th>\n",
       "      <td>id_mpeaaaamgr_rgn.jpg</td>\n",
       "      <td>0</td>\n",
       "    </tr>\n",
       "    <tr>\n",
       "      <th>1</th>\n",
       "      <td>id_cz3jnoimvm_rgn.jpg</td>\n",
       "      <td>0</td>\n",
       "    </tr>\n",
       "    <tr>\n",
       "      <th>2</th>\n",
       "      <td>id_zz6gzk7p97_rgn.jpg</td>\n",
       "      <td>0</td>\n",
       "    </tr>\n",
       "    <tr>\n",
       "      <th>3</th>\n",
       "      <td>id_spb6rl009i_rgn.jpg</td>\n",
       "      <td>0</td>\n",
       "    </tr>\n",
       "    <tr>\n",
       "      <th>4</th>\n",
       "      <td>id_179bxdmt6m.jpg</td>\n",
       "      <td>0</td>\n",
       "    </tr>\n",
       "  </tbody>\n",
       "</table>\n",
       "</div>"
      ],
      "text/plain": [
       "                Image_id  Label\n",
       "0  id_mpeaaaamgr_rgn.jpg      0\n",
       "1  id_cz3jnoimvm_rgn.jpg      0\n",
       "2  id_zz6gzk7p97_rgn.jpg      0\n",
       "3  id_spb6rl009i_rgn.jpg      0\n",
       "4      id_179bxdmt6m.jpg      0"
      ]
     },
     "execution_count": 10,
     "metadata": {},
     "output_type": "execute_result"
    }
   ],
   "source": [
    "sample_submission.head()"
   ]
  },
  {
   "cell_type": "code",
   "execution_count": 11,
   "id": "d8a3959e",
   "metadata": {
    "execution": {
     "iopub.execute_input": "2022-11-15T08:57:30.505363Z",
     "iopub.status.busy": "2022-11-15T08:57:30.504907Z",
     "iopub.status.idle": "2022-11-15T08:57:30.513484Z",
     "shell.execute_reply": "2022-11-15T08:57:30.511986Z"
    },
    "papermill": {
     "duration": 0.017382,
     "end_time": "2022-11-15T08:57:30.515919",
     "exception": false,
     "start_time": "2022-11-15T08:57:30.498537",
     "status": "completed"
    },
    "tags": []
   },
   "outputs": [
    {
     "data": {
      "text/plain": [
       "['__notebook__.ipynb']"
      ]
     },
     "execution_count": 11,
     "metadata": {},
     "output_type": "execute_result"
    }
   ],
   "source": [
    "os.listdir(\"./\")"
   ]
  },
  {
   "cell_type": "code",
   "execution_count": 12,
   "id": "230f1ba2",
   "metadata": {
    "execution": {
     "iopub.execute_input": "2022-11-15T08:57:30.528457Z",
     "iopub.status.busy": "2022-11-15T08:57:30.528067Z",
     "iopub.status.idle": "2022-11-15T08:57:30.535363Z",
     "shell.execute_reply": "2022-11-15T08:57:30.534060Z"
    },
    "papermill": {
     "duration": 0.016827,
     "end_time": "2022-11-15T08:57:30.538007",
     "exception": false,
     "start_time": "2022-11-15T08:57:30.521180",
     "status": "completed"
    },
    "tags": []
   },
   "outputs": [
    {
     "data": {
      "text/plain": [
       "['__notebook__.ipynb']"
      ]
     },
     "execution_count": 12,
     "metadata": {},
     "output_type": "execute_result"
    }
   ],
   "source": [
    "os.listdir(\"./\")"
   ]
  },
  {
   "cell_type": "code",
   "execution_count": 13,
   "id": "a22c8a26",
   "metadata": {
    "execution": {
     "iopub.execute_input": "2022-11-15T08:57:30.551056Z",
     "iopub.status.busy": "2022-11-15T08:57:30.550366Z",
     "iopub.status.idle": "2022-11-15T08:57:30.580778Z",
     "shell.execute_reply": "2022-11-15T08:57:30.579323Z"
    },
    "papermill": {
     "duration": 0.040311,
     "end_time": "2022-11-15T08:57:30.583709",
     "exception": false,
     "start_time": "2022-11-15T08:57:30.543398",
     "status": "completed"
    },
    "tags": []
   },
   "outputs": [],
   "source": [
    "train_names.to_csv(\"./train.csv\")\n",
    "test.to_csv(\"./test.csv\")\n",
    "sample_submission.to_csv(\"./sample_submission.csv\")"
   ]
  },
  {
   "cell_type": "code",
   "execution_count": null,
   "id": "a60735c2",
   "metadata": {
    "papermill": {
     "duration": 0.005001,
     "end_time": "2022-11-15T08:57:30.594537",
     "exception": false,
     "start_time": "2022-11-15T08:57:30.589536",
     "status": "completed"
    },
    "tags": []
   },
   "outputs": [],
   "source": []
  }
 ],
 "metadata": {
  "kernelspec": {
   "display_name": "Python 3",
   "language": "python",
   "name": "python3"
  },
  "language_info": {
   "codemirror_mode": {
    "name": "ipython",
    "version": 3
   },
   "file_extension": ".py",
   "mimetype": "text/x-python",
   "name": "python",
   "nbconvert_exporter": "python",
   "pygments_lexer": "ipython3",
   "version": "3.7.12"
  },
  "papermill": {
   "default_parameters": {},
   "duration": 11.877511,
   "end_time": "2022-11-15T08:57:31.424136",
   "environment_variables": {},
   "exception": null,
   "input_path": "__notebook__.ipynb",
   "output_path": "__notebook__.ipynb",
   "parameters": {},
   "start_time": "2022-11-15T08:57:19.546625",
   "version": "2.3.4"
  }
 },
 "nbformat": 4,
 "nbformat_minor": 5
}
