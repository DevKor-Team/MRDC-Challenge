{
 "cells": [
  {
   "cell_type": "code",
   "execution_count": 1,
   "id": "d0bba02e",
   "metadata": {
    "_cell_guid": "b1076dfc-b9ad-4769-8c92-a6c4dae69d19",
    "_uuid": "8f2839f25d086af736a60e9eeb907d3b93b6e0e5",
    "execution": {
     "iopub.execute_input": "2022-11-15T13:44:45.233610Z",
     "iopub.status.busy": "2022-11-15T13:44:45.232524Z",
     "iopub.status.idle": "2022-11-15T13:44:46.363423Z",
     "shell.execute_reply": "2022-11-15T13:44:46.360578Z"
    },
    "papermill": {
     "duration": 1.142507,
     "end_time": "2022-11-15T13:44:46.368087",
     "exception": false,
     "start_time": "2022-11-15T13:44:45.225580",
     "status": "completed"
    },
    "tags": []
   },
   "outputs": [],
   "source": [
    "import os\n",
    "import pandas as pd\n",
    "from sklearn.model_selection import train_test_split\n",
    "import numpy as np"
   ]
  },
  {
   "cell_type": "code",
   "execution_count": 2,
   "id": "a8e9ff56",
   "metadata": {
    "execution": {
     "iopub.execute_input": "2022-11-15T13:44:46.379904Z",
     "iopub.status.busy": "2022-11-15T13:44:46.379161Z",
     "iopub.status.idle": "2022-11-15T13:44:46.433760Z",
     "shell.execute_reply": "2022-11-15T13:44:46.432382Z"
    },
    "papermill": {
     "duration": 0.064101,
     "end_time": "2022-11-15T13:44:46.436980",
     "exception": false,
     "start_time": "2022-11-15T13:44:46.372879",
     "status": "completed"
    },
    "tags": []
   },
   "outputs": [],
   "source": [
    "OUTPUT_DIR = \"./\"\n",
    "if not os.path.exists(OUTPUT_DIR):\n",
    "    os.makedirs(OUTPUT_DIR)\n",
    "    \n",
    "BASE_DIR = \"../input/rice-disease-classification/source\"\n",
    "\n",
    "train = pd.read_csv(os.path.join(BASE_DIR, 'train.csv'))\n",
    "test = pd.read_csv(os.path.join(BASE_DIR, 'test.csv'))\n",
    "solution = pd.read_csv(os.path.join(BASE_DIR, 'solution.csv'))\n",
    "sample_submission = pd.read_csv(os.path.join(BASE_DIR, 'sample_submission.csv'))"
   ]
  },
  {
   "cell_type": "code",
   "execution_count": 3,
   "id": "330dbfc7",
   "metadata": {
    "execution": {
     "iopub.execute_input": "2022-11-15T13:44:46.447308Z",
     "iopub.status.busy": "2022-11-15T13:44:46.446898Z",
     "iopub.status.idle": "2022-11-15T13:44:46.489594Z",
     "shell.execute_reply": "2022-11-15T13:44:46.488201Z"
    },
    "papermill": {
     "duration": 0.051134,
     "end_time": "2022-11-15T13:44:46.492429",
     "exception": false,
     "start_time": "2022-11-15T13:44:46.441295",
     "status": "completed"
    },
    "tags": []
   },
   "outputs": [
    {
     "data": {
      "text/html": [
       "<div>\n",
       "<style scoped>\n",
       "    .dataframe tbody tr th:only-of-type {\n",
       "        vertical-align: middle;\n",
       "    }\n",
       "\n",
       "    .dataframe tbody tr th {\n",
       "        vertical-align: top;\n",
       "    }\n",
       "\n",
       "    .dataframe thead th {\n",
       "        text-align: right;\n",
       "    }\n",
       "</style>\n",
       "<table border=\"1\" class=\"dataframe\">\n",
       "  <thead>\n",
       "    <tr style=\"text-align: right;\">\n",
       "      <th></th>\n",
       "      <th>Image_id</th>\n",
       "      <th>Label</th>\n",
       "    </tr>\n",
       "  </thead>\n",
       "  <tbody>\n",
       "    <tr>\n",
       "      <th>0</th>\n",
       "      <td>id_0sil0chxq2.jpg</td>\n",
       "      <td>brown</td>\n",
       "    </tr>\n",
       "    <tr>\n",
       "      <th>1</th>\n",
       "      <td>id_ijed267eqx_rgn.jpg</td>\n",
       "      <td>healthy</td>\n",
       "    </tr>\n",
       "    <tr>\n",
       "      <th>2</th>\n",
       "      <td>id_cowrg71851_rgn.jpg</td>\n",
       "      <td>blast</td>\n",
       "    </tr>\n",
       "    <tr>\n",
       "      <th>3</th>\n",
       "      <td>id_miimicy82t.jpg</td>\n",
       "      <td>healthy</td>\n",
       "    </tr>\n",
       "    <tr>\n",
       "      <th>4</th>\n",
       "      <td>id_t27yi6h5le_rgn.jpg</td>\n",
       "      <td>brown</td>\n",
       "    </tr>\n",
       "  </tbody>\n",
       "</table>\n",
       "</div>"
      ],
      "text/plain": [
       "                Image_id    Label\n",
       "0      id_0sil0chxq2.jpg    brown\n",
       "1  id_ijed267eqx_rgn.jpg  healthy\n",
       "2  id_cowrg71851_rgn.jpg    blast\n",
       "3      id_miimicy82t.jpg  healthy\n",
       "4  id_t27yi6h5le_rgn.jpg    brown"
      ]
     },
     "metadata": {},
     "output_type": "display_data"
    },
    {
     "data": {
      "text/html": [
       "<div>\n",
       "<style scoped>\n",
       "    .dataframe tbody tr th:only-of-type {\n",
       "        vertical-align: middle;\n",
       "    }\n",
       "\n",
       "    .dataframe tbody tr th {\n",
       "        vertical-align: top;\n",
       "    }\n",
       "\n",
       "    .dataframe thead th {\n",
       "        text-align: right;\n",
       "    }\n",
       "</style>\n",
       "<table border=\"1\" class=\"dataframe\">\n",
       "  <thead>\n",
       "    <tr style=\"text-align: right;\">\n",
       "      <th></th>\n",
       "      <th>Image_id</th>\n",
       "    </tr>\n",
       "  </thead>\n",
       "  <tbody>\n",
       "    <tr>\n",
       "      <th>0</th>\n",
       "      <td>id_mpeaaaamgr_rgn.jpg</td>\n",
       "    </tr>\n",
       "    <tr>\n",
       "      <th>1</th>\n",
       "      <td>id_cz3jnoimvm_rgn.jpg</td>\n",
       "    </tr>\n",
       "    <tr>\n",
       "      <th>2</th>\n",
       "      <td>id_zz6gzk7p97_rgn.jpg</td>\n",
       "    </tr>\n",
       "    <tr>\n",
       "      <th>3</th>\n",
       "      <td>id_spb6rl009i_rgn.jpg</td>\n",
       "    </tr>\n",
       "    <tr>\n",
       "      <th>4</th>\n",
       "      <td>id_179bxdmt6m.jpg</td>\n",
       "    </tr>\n",
       "  </tbody>\n",
       "</table>\n",
       "</div>"
      ],
      "text/plain": [
       "                Image_id\n",
       "0  id_mpeaaaamgr_rgn.jpg\n",
       "1  id_cz3jnoimvm_rgn.jpg\n",
       "2  id_zz6gzk7p97_rgn.jpg\n",
       "3  id_spb6rl009i_rgn.jpg\n",
       "4      id_179bxdmt6m.jpg"
      ]
     },
     "metadata": {},
     "output_type": "display_data"
    },
    {
     "data": {
      "text/html": [
       "<div>\n",
       "<style scoped>\n",
       "    .dataframe tbody tr th:only-of-type {\n",
       "        vertical-align: middle;\n",
       "    }\n",
       "\n",
       "    .dataframe tbody tr th {\n",
       "        vertical-align: top;\n",
       "    }\n",
       "\n",
       "    .dataframe thead th {\n",
       "        text-align: right;\n",
       "    }\n",
       "</style>\n",
       "<table border=\"1\" class=\"dataframe\">\n",
       "  <thead>\n",
       "    <tr style=\"text-align: right;\">\n",
       "      <th></th>\n",
       "      <th>Image_id</th>\n",
       "      <th>Label</th>\n",
       "    </tr>\n",
       "  </thead>\n",
       "  <tbody>\n",
       "    <tr>\n",
       "      <th>0</th>\n",
       "      <td>id_mpeaaaamgr_rgn.jpg</td>\n",
       "      <td>blast</td>\n",
       "    </tr>\n",
       "    <tr>\n",
       "      <th>1</th>\n",
       "      <td>id_cz3jnoimvm_rgn.jpg</td>\n",
       "      <td>blast</td>\n",
       "    </tr>\n",
       "    <tr>\n",
       "      <th>2</th>\n",
       "      <td>id_zz6gzk7p97_rgn.jpg</td>\n",
       "      <td>brown</td>\n",
       "    </tr>\n",
       "    <tr>\n",
       "      <th>3</th>\n",
       "      <td>id_spb6rl009i_rgn.jpg</td>\n",
       "      <td>brown</td>\n",
       "    </tr>\n",
       "    <tr>\n",
       "      <th>4</th>\n",
       "      <td>id_179bxdmt6m.jpg</td>\n",
       "      <td>blast</td>\n",
       "    </tr>\n",
       "  </tbody>\n",
       "</table>\n",
       "</div>"
      ],
      "text/plain": [
       "                Image_id  Label\n",
       "0  id_mpeaaaamgr_rgn.jpg  blast\n",
       "1  id_cz3jnoimvm_rgn.jpg  blast\n",
       "2  id_zz6gzk7p97_rgn.jpg  brown\n",
       "3  id_spb6rl009i_rgn.jpg  brown\n",
       "4      id_179bxdmt6m.jpg  blast"
      ]
     },
     "metadata": {},
     "output_type": "display_data"
    },
    {
     "data": {
      "text/html": [
       "<div>\n",
       "<style scoped>\n",
       "    .dataframe tbody tr th:only-of-type {\n",
       "        vertical-align: middle;\n",
       "    }\n",
       "\n",
       "    .dataframe tbody tr th {\n",
       "        vertical-align: top;\n",
       "    }\n",
       "\n",
       "    .dataframe thead th {\n",
       "        text-align: right;\n",
       "    }\n",
       "</style>\n",
       "<table border=\"1\" class=\"dataframe\">\n",
       "  <thead>\n",
       "    <tr style=\"text-align: right;\">\n",
       "      <th></th>\n",
       "      <th>Image_id</th>\n",
       "      <th>Label</th>\n",
       "    </tr>\n",
       "  </thead>\n",
       "  <tbody>\n",
       "    <tr>\n",
       "      <th>0</th>\n",
       "      <td>id_mpeaaaamgr_rgn.jpg</td>\n",
       "      <td>0</td>\n",
       "    </tr>\n",
       "    <tr>\n",
       "      <th>1</th>\n",
       "      <td>id_cz3jnoimvm_rgn.jpg</td>\n",
       "      <td>0</td>\n",
       "    </tr>\n",
       "    <tr>\n",
       "      <th>2</th>\n",
       "      <td>id_zz6gzk7p97_rgn.jpg</td>\n",
       "      <td>0</td>\n",
       "    </tr>\n",
       "    <tr>\n",
       "      <th>3</th>\n",
       "      <td>id_spb6rl009i_rgn.jpg</td>\n",
       "      <td>0</td>\n",
       "    </tr>\n",
       "    <tr>\n",
       "      <th>4</th>\n",
       "      <td>id_179bxdmt6m.jpg</td>\n",
       "      <td>0</td>\n",
       "    </tr>\n",
       "  </tbody>\n",
       "</table>\n",
       "</div>"
      ],
      "text/plain": [
       "                Image_id  Label\n",
       "0  id_mpeaaaamgr_rgn.jpg      0\n",
       "1  id_cz3jnoimvm_rgn.jpg      0\n",
       "2  id_zz6gzk7p97_rgn.jpg      0\n",
       "3  id_spb6rl009i_rgn.jpg      0\n",
       "4      id_179bxdmt6m.jpg      0"
      ]
     },
     "metadata": {},
     "output_type": "display_data"
    }
   ],
   "source": [
    "display(train.head())\n",
    "display(test.head())\n",
    "display(solution.head())\n",
    "display(sample_submission.head())"
   ]
  },
  {
   "cell_type": "code",
   "execution_count": 4,
   "id": "e0bbabe1",
   "metadata": {
    "execution": {
     "iopub.execute_input": "2022-11-15T13:44:46.510545Z",
     "iopub.status.busy": "2022-11-15T13:44:46.510054Z",
     "iopub.status.idle": "2022-11-15T13:44:46.535437Z",
     "shell.execute_reply": "2022-11-15T13:44:46.534537Z"
    },
    "papermill": {
     "duration": 0.042048,
     "end_time": "2022-11-15T13:44:46.538383",
     "exception": false,
     "start_time": "2022-11-15T13:44:46.496335",
     "status": "completed"
    },
    "tags": []
   },
   "outputs": [
    {
     "data": {
      "text/html": [
       "<div>\n",
       "<style scoped>\n",
       "    .dataframe tbody tr th:only-of-type {\n",
       "        vertical-align: middle;\n",
       "    }\n",
       "\n",
       "    .dataframe tbody tr th {\n",
       "        vertical-align: top;\n",
       "    }\n",
       "\n",
       "    .dataframe thead th {\n",
       "        text-align: right;\n",
       "    }\n",
       "</style>\n",
       "<table border=\"1\" class=\"dataframe\">\n",
       "  <thead>\n",
       "    <tr style=\"text-align: right;\">\n",
       "      <th></th>\n",
       "      <th>Image_id</th>\n",
       "      <th>Label</th>\n",
       "    </tr>\n",
       "  </thead>\n",
       "  <tbody>\n",
       "    <tr>\n",
       "      <th>0</th>\n",
       "      <td>id_0sil0chxq2.jpg</td>\n",
       "      <td>brown</td>\n",
       "    </tr>\n",
       "    <tr>\n",
       "      <th>1</th>\n",
       "      <td>id_ijed267eqx_rgn.jpg</td>\n",
       "      <td>healthy</td>\n",
       "    </tr>\n",
       "    <tr>\n",
       "      <th>2</th>\n",
       "      <td>id_cowrg71851_rgn.jpg</td>\n",
       "      <td>blast</td>\n",
       "    </tr>\n",
       "    <tr>\n",
       "      <th>3</th>\n",
       "      <td>id_miimicy82t.jpg</td>\n",
       "      <td>healthy</td>\n",
       "    </tr>\n",
       "    <tr>\n",
       "      <th>4</th>\n",
       "      <td>id_t27yi6h5le_rgn.jpg</td>\n",
       "      <td>brown</td>\n",
       "    </tr>\n",
       "  </tbody>\n",
       "</table>\n",
       "</div>"
      ],
      "text/plain": [
       "                Image_id    Label\n",
       "0      id_0sil0chxq2.jpg    brown\n",
       "1  id_ijed267eqx_rgn.jpg  healthy\n",
       "2  id_cowrg71851_rgn.jpg    blast\n",
       "3      id_miimicy82t.jpg  healthy\n",
       "4  id_t27yi6h5le_rgn.jpg    brown"
      ]
     },
     "metadata": {},
     "output_type": "display_data"
    },
    {
     "data": {
      "text/html": [
       "<div>\n",
       "<style scoped>\n",
       "    .dataframe tbody tr th:only-of-type {\n",
       "        vertical-align: middle;\n",
       "    }\n",
       "\n",
       "    .dataframe tbody tr th {\n",
       "        vertical-align: top;\n",
       "    }\n",
       "\n",
       "    .dataframe thead th {\n",
       "        text-align: right;\n",
       "    }\n",
       "</style>\n",
       "<table border=\"1\" class=\"dataframe\">\n",
       "  <thead>\n",
       "    <tr style=\"text-align: right;\">\n",
       "      <th></th>\n",
       "      <th>Image_id</th>\n",
       "    </tr>\n",
       "  </thead>\n",
       "  <tbody>\n",
       "    <tr>\n",
       "      <th>0</th>\n",
       "      <td>id_mpeaaaamgr_rgn.jpg</td>\n",
       "    </tr>\n",
       "    <tr>\n",
       "      <th>1</th>\n",
       "      <td>id_cz3jnoimvm_rgn.jpg</td>\n",
       "    </tr>\n",
       "    <tr>\n",
       "      <th>2</th>\n",
       "      <td>id_zz6gzk7p97_rgn.jpg</td>\n",
       "    </tr>\n",
       "    <tr>\n",
       "      <th>3</th>\n",
       "      <td>id_spb6rl009i_rgn.jpg</td>\n",
       "    </tr>\n",
       "    <tr>\n",
       "      <th>4</th>\n",
       "      <td>id_179bxdmt6m.jpg</td>\n",
       "    </tr>\n",
       "  </tbody>\n",
       "</table>\n",
       "</div>"
      ],
      "text/plain": [
       "                Image_id\n",
       "0  id_mpeaaaamgr_rgn.jpg\n",
       "1  id_cz3jnoimvm_rgn.jpg\n",
       "2  id_zz6gzk7p97_rgn.jpg\n",
       "3  id_spb6rl009i_rgn.jpg\n",
       "4      id_179bxdmt6m.jpg"
      ]
     },
     "metadata": {},
     "output_type": "display_data"
    },
    {
     "data": {
      "text/html": [
       "<div>\n",
       "<style scoped>\n",
       "    .dataframe tbody tr th:only-of-type {\n",
       "        vertical-align: middle;\n",
       "    }\n",
       "\n",
       "    .dataframe tbody tr th {\n",
       "        vertical-align: top;\n",
       "    }\n",
       "\n",
       "    .dataframe thead th {\n",
       "        text-align: right;\n",
       "    }\n",
       "</style>\n",
       "<table border=\"1\" class=\"dataframe\">\n",
       "  <thead>\n",
       "    <tr style=\"text-align: right;\">\n",
       "      <th></th>\n",
       "      <th>Image_id</th>\n",
       "      <th>Label</th>\n",
       "    </tr>\n",
       "  </thead>\n",
       "  <tbody>\n",
       "    <tr>\n",
       "      <th>0</th>\n",
       "      <td>id_mpeaaaamgr_rgn.jpg</td>\n",
       "      <td>blast</td>\n",
       "    </tr>\n",
       "    <tr>\n",
       "      <th>1</th>\n",
       "      <td>id_cz3jnoimvm_rgn.jpg</td>\n",
       "      <td>blast</td>\n",
       "    </tr>\n",
       "    <tr>\n",
       "      <th>2</th>\n",
       "      <td>id_zz6gzk7p97_rgn.jpg</td>\n",
       "      <td>brown</td>\n",
       "    </tr>\n",
       "    <tr>\n",
       "      <th>3</th>\n",
       "      <td>id_spb6rl009i_rgn.jpg</td>\n",
       "      <td>brown</td>\n",
       "    </tr>\n",
       "    <tr>\n",
       "      <th>4</th>\n",
       "      <td>id_179bxdmt6m.jpg</td>\n",
       "      <td>blast</td>\n",
       "    </tr>\n",
       "  </tbody>\n",
       "</table>\n",
       "</div>"
      ],
      "text/plain": [
       "                Image_id  Label\n",
       "0  id_mpeaaaamgr_rgn.jpg  blast\n",
       "1  id_cz3jnoimvm_rgn.jpg  blast\n",
       "2  id_zz6gzk7p97_rgn.jpg  brown\n",
       "3  id_spb6rl009i_rgn.jpg  brown\n",
       "4      id_179bxdmt6m.jpg  blast"
      ]
     },
     "metadata": {},
     "output_type": "display_data"
    },
    {
     "data": {
      "text/html": [
       "<div>\n",
       "<style scoped>\n",
       "    .dataframe tbody tr th:only-of-type {\n",
       "        vertical-align: middle;\n",
       "    }\n",
       "\n",
       "    .dataframe tbody tr th {\n",
       "        vertical-align: top;\n",
       "    }\n",
       "\n",
       "    .dataframe thead th {\n",
       "        text-align: right;\n",
       "    }\n",
       "</style>\n",
       "<table border=\"1\" class=\"dataframe\">\n",
       "  <thead>\n",
       "    <tr style=\"text-align: right;\">\n",
       "      <th></th>\n",
       "      <th>Image_id</th>\n",
       "      <th>Label</th>\n",
       "    </tr>\n",
       "  </thead>\n",
       "  <tbody>\n",
       "    <tr>\n",
       "      <th>0</th>\n",
       "      <td>id_mpeaaaamgr_rgn.jpg</td>\n",
       "      <td>0</td>\n",
       "    </tr>\n",
       "    <tr>\n",
       "      <th>1</th>\n",
       "      <td>id_cz3jnoimvm_rgn.jpg</td>\n",
       "      <td>0</td>\n",
       "    </tr>\n",
       "    <tr>\n",
       "      <th>2</th>\n",
       "      <td>id_zz6gzk7p97_rgn.jpg</td>\n",
       "      <td>0</td>\n",
       "    </tr>\n",
       "    <tr>\n",
       "      <th>3</th>\n",
       "      <td>id_spb6rl009i_rgn.jpg</td>\n",
       "      <td>0</td>\n",
       "    </tr>\n",
       "    <tr>\n",
       "      <th>4</th>\n",
       "      <td>id_179bxdmt6m.jpg</td>\n",
       "      <td>0</td>\n",
       "    </tr>\n",
       "  </tbody>\n",
       "</table>\n",
       "</div>"
      ],
      "text/plain": [
       "                Image_id  Label\n",
       "0  id_mpeaaaamgr_rgn.jpg      0\n",
       "1  id_cz3jnoimvm_rgn.jpg      0\n",
       "2  id_zz6gzk7p97_rgn.jpg      0\n",
       "3  id_spb6rl009i_rgn.jpg      0\n",
       "4      id_179bxdmt6m.jpg      0"
      ]
     },
     "metadata": {},
     "output_type": "display_data"
    }
   ],
   "source": [
    "display(train.head())\n",
    "display(test.head())\n",
    "display(solution.head())\n",
    "display(sample_submission.head())"
   ]
  },
  {
   "cell_type": "code",
   "execution_count": 5,
   "id": "61fb356e",
   "metadata": {
    "execution": {
     "iopub.execute_input": "2022-11-15T13:44:46.553056Z",
     "iopub.status.busy": "2022-11-15T13:44:46.552392Z",
     "iopub.status.idle": "2022-11-15T13:44:46.574765Z",
     "shell.execute_reply": "2022-11-15T13:44:46.573705Z"
    },
    "papermill": {
     "duration": 0.035039,
     "end_time": "2022-11-15T13:44:46.579662",
     "exception": false,
     "start_time": "2022-11-15T13:44:46.544623",
     "status": "completed"
    },
    "tags": []
   },
   "outputs": [
    {
     "name": "stdout",
     "output_type": "stream",
     "text": [
      "{'blast': 0, 'brown': 1, 'healthy': 2}\n"
     ]
    },
    {
     "data": {
      "text/html": [
       "<div>\n",
       "<style scoped>\n",
       "    .dataframe tbody tr th:only-of-type {\n",
       "        vertical-align: middle;\n",
       "    }\n",
       "\n",
       "    .dataframe tbody tr th {\n",
       "        vertical-align: top;\n",
       "    }\n",
       "\n",
       "    .dataframe thead th {\n",
       "        text-align: right;\n",
       "    }\n",
       "</style>\n",
       "<table border=\"1\" class=\"dataframe\">\n",
       "  <thead>\n",
       "    <tr style=\"text-align: right;\">\n",
       "      <th></th>\n",
       "      <th>Image_id</th>\n",
       "      <th>Label</th>\n",
       "    </tr>\n",
       "  </thead>\n",
       "  <tbody>\n",
       "    <tr>\n",
       "      <th>0</th>\n",
       "      <td>id_mpeaaaamgr_rgn.jpg</td>\n",
       "      <td>0</td>\n",
       "    </tr>\n",
       "    <tr>\n",
       "      <th>1</th>\n",
       "      <td>id_cz3jnoimvm_rgn.jpg</td>\n",
       "      <td>0</td>\n",
       "    </tr>\n",
       "    <tr>\n",
       "      <th>2</th>\n",
       "      <td>id_zz6gzk7p97_rgn.jpg</td>\n",
       "      <td>1</td>\n",
       "    </tr>\n",
       "    <tr>\n",
       "      <th>3</th>\n",
       "      <td>id_spb6rl009i_rgn.jpg</td>\n",
       "      <td>1</td>\n",
       "    </tr>\n",
       "    <tr>\n",
       "      <th>4</th>\n",
       "      <td>id_179bxdmt6m.jpg</td>\n",
       "      <td>0</td>\n",
       "    </tr>\n",
       "  </tbody>\n",
       "</table>\n",
       "</div>"
      ],
      "text/plain": [
       "                Image_id  Label\n",
       "0  id_mpeaaaamgr_rgn.jpg      0\n",
       "1  id_cz3jnoimvm_rgn.jpg      0\n",
       "2  id_zz6gzk7p97_rgn.jpg      1\n",
       "3  id_spb6rl009i_rgn.jpg      1\n",
       "4      id_179bxdmt6m.jpg      0"
      ]
     },
     "metadata": {},
     "output_type": "display_data"
    }
   ],
   "source": [
    "class_mapping = {label: idx for idx, label in enumerate(np.unique(solution['Label']))}\n",
    "print(class_mapping)\n",
    "solution['Label'] = solution['Label'].map(class_mapping)\n",
    "display(solution.head())"
   ]
  },
  {
   "cell_type": "code",
   "execution_count": 6,
   "id": "7481ef34",
   "metadata": {
    "execution": {
     "iopub.execute_input": "2022-11-15T13:44:46.595514Z",
     "iopub.status.busy": "2022-11-15T13:44:46.594522Z",
     "iopub.status.idle": "2022-11-15T13:44:46.602160Z",
     "shell.execute_reply": "2022-11-15T13:44:46.601050Z"
    },
    "papermill": {
     "duration": 0.01921,
     "end_time": "2022-11-15T13:44:46.605139",
     "exception": false,
     "start_time": "2022-11-15T13:44:46.585929",
     "status": "completed"
    },
    "tags": []
   },
   "outputs": [
    {
     "data": {
      "text/plain": [
       "['__notebook__.ipynb']"
      ]
     },
     "execution_count": 6,
     "metadata": {},
     "output_type": "execute_result"
    }
   ],
   "source": [
    "os.listdir(\"./\")"
   ]
  },
  {
   "cell_type": "code",
   "execution_count": 7,
   "id": "896f395f",
   "metadata": {
    "execution": {
     "iopub.execute_input": "2022-11-15T13:44:46.620671Z",
     "iopub.status.busy": "2022-11-15T13:44:46.619476Z",
     "iopub.status.idle": "2022-11-15T13:44:46.653068Z",
     "shell.execute_reply": "2022-11-15T13:44:46.651751Z"
    },
    "papermill": {
     "duration": 0.044529,
     "end_time": "2022-11-15T13:44:46.656253",
     "exception": false,
     "start_time": "2022-11-15T13:44:46.611724",
     "status": "completed"
    },
    "tags": []
   },
   "outputs": [],
   "source": [
    "train.to_csv(\"./train.csv\" , index=False)\n",
    "test.to_csv(\"./test.csv\",index=False)\n",
    "solution.to_csv(\"./solution.csv\", index=False)\n",
    "sample_submission.to_csv(\"./sample_submission.csv\", index=False)"
   ]
  }
 ],
 "metadata": {
  "kernelspec": {
   "display_name": "Python 3",
   "language": "python",
   "name": "python3"
  },
  "language_info": {
   "codemirror_mode": {
    "name": "ipython",
    "version": 3
   },
   "file_extension": ".py",
   "mimetype": "text/x-python",
   "name": "python",
   "nbconvert_exporter": "python",
   "pygments_lexer": "ipython3",
   "version": "3.7.12"
  },
  "papermill": {
   "default_parameters": {},
   "duration": 11.40418,
   "end_time": "2022-11-15T13:44:47.486985",
   "environment_variables": {},
   "exception": null,
   "input_path": "__notebook__.ipynb",
   "output_path": "__notebook__.ipynb",
   "parameters": {},
   "start_time": "2022-11-15T13:44:36.082805",
   "version": "2.3.4"
  }
 },
 "nbformat": 4,
 "nbformat_minor": 5
}
