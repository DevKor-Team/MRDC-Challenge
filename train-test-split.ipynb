{
 "cells": [
  {
   "cell_type": "code",
   "execution_count": 1,
   "id": "ff23c443",
   "metadata": {
    "_cell_guid": "b1076dfc-b9ad-4769-8c92-a6c4dae69d19",
    "_uuid": "8f2839f25d086af736a60e9eeb907d3b93b6e0e5",
    "execution": {
     "iopub.execute_input": "2022-11-15T11:32:08.407780Z",
     "iopub.status.busy": "2022-11-15T11:32:08.407230Z",
     "iopub.status.idle": "2022-11-15T11:32:09.643486Z",
     "shell.execute_reply": "2022-11-15T11:32:09.642197Z"
    },
    "papermill": {
     "duration": 1.246948,
     "end_time": "2022-11-15T11:32:09.646805",
     "exception": false,
     "start_time": "2022-11-15T11:32:08.399857",
     "status": "completed"
    },
    "tags": []
   },
   "outputs": [],
   "source": [
    "import os\n",
    "import pandas as pd\n",
    "from sklearn.model_selection import train_test_split"
   ]
  },
  {
   "cell_type": "code",
   "execution_count": 2,
   "id": "6dfeb201",
   "metadata": {
    "execution": {
     "iopub.execute_input": "2022-11-15T11:32:09.658123Z",
     "iopub.status.busy": "2022-11-15T11:32:09.657624Z",
     "iopub.status.idle": "2022-11-15T11:32:09.710325Z",
     "shell.execute_reply": "2022-11-15T11:32:09.709250Z"
    },
    "papermill": {
     "duration": 0.062044,
     "end_time": "2022-11-15T11:32:09.713352",
     "exception": false,
     "start_time": "2022-11-15T11:32:09.651308",
     "status": "completed"
    },
    "tags": []
   },
   "outputs": [],
   "source": [
    "OUTPUT_DIR = \"./\"\n",
    "if not os.path.exists(OUTPUT_DIR):\n",
    "    os.makedirs(OUTPUT_DIR)\n",
    "    \n",
    "BASE_DIR = \"../input/rice-disease-classification/source\"\n",
    "\n",
    "train = pd.read_csv(os.path.join(BASE_DIR, 'train.csv'))\n",
    "test = pd.read_csv(os.path.join(BASE_DIR, 'test.csv'))\n",
    "solution = pd.read_csv(os.path.join(BASE_DIR, 'scoring.csv'))\n",
    "sample_submission = pd.read_csv(os.path.join(BASE_DIR, 'sample_submission.csv'))"
   ]
  },
  {
   "cell_type": "code",
   "execution_count": 3,
   "id": "992a1f1f",
   "metadata": {
    "execution": {
     "iopub.execute_input": "2022-11-15T11:32:09.723782Z",
     "iopub.status.busy": "2022-11-15T11:32:09.723297Z",
     "iopub.status.idle": "2022-11-15T11:32:09.764471Z",
     "shell.execute_reply": "2022-11-15T11:32:09.763234Z"
    },
    "papermill": {
     "duration": 0.049552,
     "end_time": "2022-11-15T11:32:09.767011",
     "exception": false,
     "start_time": "2022-11-15T11:32:09.717459",
     "status": "completed"
    },
    "tags": []
   },
   "outputs": [
    {
     "data": {
      "text/html": [
       "<div>\n",
       "<style scoped>\n",
       "    .dataframe tbody tr th:only-of-type {\n",
       "        vertical-align: middle;\n",
       "    }\n",
       "\n",
       "    .dataframe tbody tr th {\n",
       "        vertical-align: top;\n",
       "    }\n",
       "\n",
       "    .dataframe thead th {\n",
       "        text-align: right;\n",
       "    }\n",
       "</style>\n",
       "<table border=\"1\" class=\"dataframe\">\n",
       "  <thead>\n",
       "    <tr style=\"text-align: right;\">\n",
       "      <th></th>\n",
       "      <th>Unnamed: 0</th>\n",
       "      <th>Image_id</th>\n",
       "      <th>Label</th>\n",
       "    </tr>\n",
       "  </thead>\n",
       "  <tbody>\n",
       "    <tr>\n",
       "      <th>0</th>\n",
       "      <td>0</td>\n",
       "      <td>id_0sil0chxq2.jpg</td>\n",
       "      <td>brown</td>\n",
       "    </tr>\n",
       "    <tr>\n",
       "      <th>1</th>\n",
       "      <td>1</td>\n",
       "      <td>id_ijed267eqx_rgn.jpg</td>\n",
       "      <td>healthy</td>\n",
       "    </tr>\n",
       "    <tr>\n",
       "      <th>2</th>\n",
       "      <td>2</td>\n",
       "      <td>id_cowrg71851_rgn.jpg</td>\n",
       "      <td>blast</td>\n",
       "    </tr>\n",
       "    <tr>\n",
       "      <th>3</th>\n",
       "      <td>3</td>\n",
       "      <td>id_miimicy82t.jpg</td>\n",
       "      <td>healthy</td>\n",
       "    </tr>\n",
       "    <tr>\n",
       "      <th>4</th>\n",
       "      <td>4</td>\n",
       "      <td>id_t27yi6h5le_rgn.jpg</td>\n",
       "      <td>brown</td>\n",
       "    </tr>\n",
       "  </tbody>\n",
       "</table>\n",
       "</div>"
      ],
      "text/plain": [
       "   Unnamed: 0               Image_id    Label\n",
       "0           0      id_0sil0chxq2.jpg    brown\n",
       "1           1  id_ijed267eqx_rgn.jpg  healthy\n",
       "2           2  id_cowrg71851_rgn.jpg    blast\n",
       "3           3      id_miimicy82t.jpg  healthy\n",
       "4           4  id_t27yi6h5le_rgn.jpg    brown"
      ]
     },
     "metadata": {},
     "output_type": "display_data"
    },
    {
     "data": {
      "text/html": [
       "<div>\n",
       "<style scoped>\n",
       "    .dataframe tbody tr th:only-of-type {\n",
       "        vertical-align: middle;\n",
       "    }\n",
       "\n",
       "    .dataframe tbody tr th {\n",
       "        vertical-align: top;\n",
       "    }\n",
       "\n",
       "    .dataframe thead th {\n",
       "        text-align: right;\n",
       "    }\n",
       "</style>\n",
       "<table border=\"1\" class=\"dataframe\">\n",
       "  <thead>\n",
       "    <tr style=\"text-align: right;\">\n",
       "      <th></th>\n",
       "      <th>Unnamed: 0</th>\n",
       "      <th>Image_id</th>\n",
       "      <th>Label</th>\n",
       "    </tr>\n",
       "  </thead>\n",
       "  <tbody>\n",
       "    <tr>\n",
       "      <th>0</th>\n",
       "      <td>0</td>\n",
       "      <td>id_mpeaaaamgr_rgn.jpg</td>\n",
       "      <td>0</td>\n",
       "    </tr>\n",
       "    <tr>\n",
       "      <th>1</th>\n",
       "      <td>1</td>\n",
       "      <td>id_cz3jnoimvm_rgn.jpg</td>\n",
       "      <td>0</td>\n",
       "    </tr>\n",
       "    <tr>\n",
       "      <th>2</th>\n",
       "      <td>2</td>\n",
       "      <td>id_zz6gzk7p97_rgn.jpg</td>\n",
       "      <td>0</td>\n",
       "    </tr>\n",
       "    <tr>\n",
       "      <th>3</th>\n",
       "      <td>3</td>\n",
       "      <td>id_spb6rl009i_rgn.jpg</td>\n",
       "      <td>0</td>\n",
       "    </tr>\n",
       "    <tr>\n",
       "      <th>4</th>\n",
       "      <td>4</td>\n",
       "      <td>id_179bxdmt6m.jpg</td>\n",
       "      <td>0</td>\n",
       "    </tr>\n",
       "  </tbody>\n",
       "</table>\n",
       "</div>"
      ],
      "text/plain": [
       "   Unnamed: 0               Image_id  Label\n",
       "0           0  id_mpeaaaamgr_rgn.jpg      0\n",
       "1           1  id_cz3jnoimvm_rgn.jpg      0\n",
       "2           2  id_zz6gzk7p97_rgn.jpg      0\n",
       "3           3  id_spb6rl009i_rgn.jpg      0\n",
       "4           4      id_179bxdmt6m.jpg      0"
      ]
     },
     "metadata": {},
     "output_type": "display_data"
    },
    {
     "data": {
      "text/html": [
       "<div>\n",
       "<style scoped>\n",
       "    .dataframe tbody tr th:only-of-type {\n",
       "        vertical-align: middle;\n",
       "    }\n",
       "\n",
       "    .dataframe tbody tr th {\n",
       "        vertical-align: top;\n",
       "    }\n",
       "\n",
       "    .dataframe thead th {\n",
       "        text-align: right;\n",
       "    }\n",
       "</style>\n",
       "<table border=\"1\" class=\"dataframe\">\n",
       "  <thead>\n",
       "    <tr style=\"text-align: right;\">\n",
       "      <th></th>\n",
       "      <th>Unnamed: 0</th>\n",
       "      <th>Image_id</th>\n",
       "      <th>Label</th>\n",
       "    </tr>\n",
       "  </thead>\n",
       "  <tbody>\n",
       "    <tr>\n",
       "      <th>0</th>\n",
       "      <td>0</td>\n",
       "      <td>id_mpeaaaamgr_rgn.jpg</td>\n",
       "      <td>blast</td>\n",
       "    </tr>\n",
       "    <tr>\n",
       "      <th>1</th>\n",
       "      <td>1</td>\n",
       "      <td>id_cz3jnoimvm_rgn.jpg</td>\n",
       "      <td>blast</td>\n",
       "    </tr>\n",
       "    <tr>\n",
       "      <th>2</th>\n",
       "      <td>2</td>\n",
       "      <td>id_zz6gzk7p97_rgn.jpg</td>\n",
       "      <td>brown</td>\n",
       "    </tr>\n",
       "    <tr>\n",
       "      <th>3</th>\n",
       "      <td>3</td>\n",
       "      <td>id_spb6rl009i_rgn.jpg</td>\n",
       "      <td>brown</td>\n",
       "    </tr>\n",
       "    <tr>\n",
       "      <th>4</th>\n",
       "      <td>4</td>\n",
       "      <td>id_179bxdmt6m.jpg</td>\n",
       "      <td>blast</td>\n",
       "    </tr>\n",
       "  </tbody>\n",
       "</table>\n",
       "</div>"
      ],
      "text/plain": [
       "   Unnamed: 0               Image_id  Label\n",
       "0           0  id_mpeaaaamgr_rgn.jpg  blast\n",
       "1           1  id_cz3jnoimvm_rgn.jpg  blast\n",
       "2           2  id_zz6gzk7p97_rgn.jpg  brown\n",
       "3           3  id_spb6rl009i_rgn.jpg  brown\n",
       "4           4      id_179bxdmt6m.jpg  blast"
      ]
     },
     "metadata": {},
     "output_type": "display_data"
    },
    {
     "data": {
      "text/html": [
       "<div>\n",
       "<style scoped>\n",
       "    .dataframe tbody tr th:only-of-type {\n",
       "        vertical-align: middle;\n",
       "    }\n",
       "\n",
       "    .dataframe tbody tr th {\n",
       "        vertical-align: top;\n",
       "    }\n",
       "\n",
       "    .dataframe thead th {\n",
       "        text-align: right;\n",
       "    }\n",
       "</style>\n",
       "<table border=\"1\" class=\"dataframe\">\n",
       "  <thead>\n",
       "    <tr style=\"text-align: right;\">\n",
       "      <th></th>\n",
       "      <th>Unnamed: 0</th>\n",
       "      <th>Image_id</th>\n",
       "      <th>Label</th>\n",
       "    </tr>\n",
       "  </thead>\n",
       "  <tbody>\n",
       "    <tr>\n",
       "      <th>0</th>\n",
       "      <td>0</td>\n",
       "      <td>id_mpeaaaamgr_rgn.jpg</td>\n",
       "      <td>0</td>\n",
       "    </tr>\n",
       "    <tr>\n",
       "      <th>1</th>\n",
       "      <td>1</td>\n",
       "      <td>id_cz3jnoimvm_rgn.jpg</td>\n",
       "      <td>0</td>\n",
       "    </tr>\n",
       "    <tr>\n",
       "      <th>2</th>\n",
       "      <td>2</td>\n",
       "      <td>id_zz6gzk7p97_rgn.jpg</td>\n",
       "      <td>0</td>\n",
       "    </tr>\n",
       "    <tr>\n",
       "      <th>3</th>\n",
       "      <td>3</td>\n",
       "      <td>id_spb6rl009i_rgn.jpg</td>\n",
       "      <td>0</td>\n",
       "    </tr>\n",
       "    <tr>\n",
       "      <th>4</th>\n",
       "      <td>4</td>\n",
       "      <td>id_179bxdmt6m.jpg</td>\n",
       "      <td>0</td>\n",
       "    </tr>\n",
       "  </tbody>\n",
       "</table>\n",
       "</div>"
      ],
      "text/plain": [
       "   Unnamed: 0               Image_id  Label\n",
       "0           0  id_mpeaaaamgr_rgn.jpg      0\n",
       "1           1  id_cz3jnoimvm_rgn.jpg      0\n",
       "2           2  id_zz6gzk7p97_rgn.jpg      0\n",
       "3           3  id_spb6rl009i_rgn.jpg      0\n",
       "4           4      id_179bxdmt6m.jpg      0"
      ]
     },
     "metadata": {},
     "output_type": "display_data"
    }
   ],
   "source": [
    "display(train.head())\n",
    "display(test.head())\n",
    "display(solution.head())\n",
    "display(sample_submission.head())"
   ]
  },
  {
   "cell_type": "code",
   "execution_count": 4,
   "id": "f6b9ae09",
   "metadata": {
    "execution": {
     "iopub.execute_input": "2022-11-15T11:32:09.779143Z",
     "iopub.status.busy": "2022-11-15T11:32:09.778685Z",
     "iopub.status.idle": "2022-11-15T11:32:09.791810Z",
     "shell.execute_reply": "2022-11-15T11:32:09.790361Z"
    },
    "papermill": {
     "duration": 0.022393,
     "end_time": "2022-11-15T11:32:09.794530",
     "exception": false,
     "start_time": "2022-11-15T11:32:09.772137",
     "status": "completed"
    },
    "tags": []
   },
   "outputs": [],
   "source": [
    "train = train.loc[:, ~train.columns.str.contains('^Unnamed')]\n",
    "test = test.loc[:, ~test.columns.str.contains('^Unnamed')]\n",
    "solution = solution.loc[:, ~solution.columns.str.contains('^Unnamed')]\n",
    "sample_submission = sample_submission.loc[:, ~sample_submission.columns.str.contains('^Unnamed')]"
   ]
  },
  {
   "cell_type": "code",
   "execution_count": 5,
   "id": "ef5bc6e2",
   "metadata": {
    "execution": {
     "iopub.execute_input": "2022-11-15T11:32:09.806632Z",
     "iopub.status.busy": "2022-11-15T11:32:09.806065Z",
     "iopub.status.idle": "2022-11-15T11:32:09.817568Z",
     "shell.execute_reply": "2022-11-15T11:32:09.816567Z"
    },
    "papermill": {
     "duration": 0.020656,
     "end_time": "2022-11-15T11:32:09.820192",
     "exception": false,
     "start_time": "2022-11-15T11:32:09.799536",
     "status": "completed"
    },
    "tags": []
   },
   "outputs": [],
   "source": [
    "test.drop('Label', axis = 1, inplace = True)"
   ]
  },
  {
   "cell_type": "code",
   "execution_count": 6,
   "id": "e9d51fdb",
   "metadata": {
    "execution": {
     "iopub.execute_input": "2022-11-15T11:32:09.833336Z",
     "iopub.status.busy": "2022-11-15T11:32:09.831777Z",
     "iopub.status.idle": "2022-11-15T11:32:09.858477Z",
     "shell.execute_reply": "2022-11-15T11:32:09.857521Z"
    },
    "papermill": {
     "duration": 0.035688,
     "end_time": "2022-11-15T11:32:09.860924",
     "exception": false,
     "start_time": "2022-11-15T11:32:09.825236",
     "status": "completed"
    },
    "tags": []
   },
   "outputs": [
    {
     "data": {
      "text/html": [
       "<div>\n",
       "<style scoped>\n",
       "    .dataframe tbody tr th:only-of-type {\n",
       "        vertical-align: middle;\n",
       "    }\n",
       "\n",
       "    .dataframe tbody tr th {\n",
       "        vertical-align: top;\n",
       "    }\n",
       "\n",
       "    .dataframe thead th {\n",
       "        text-align: right;\n",
       "    }\n",
       "</style>\n",
       "<table border=\"1\" class=\"dataframe\">\n",
       "  <thead>\n",
       "    <tr style=\"text-align: right;\">\n",
       "      <th></th>\n",
       "      <th>Image_id</th>\n",
       "      <th>Label</th>\n",
       "    </tr>\n",
       "  </thead>\n",
       "  <tbody>\n",
       "    <tr>\n",
       "      <th>0</th>\n",
       "      <td>id_0sil0chxq2.jpg</td>\n",
       "      <td>brown</td>\n",
       "    </tr>\n",
       "    <tr>\n",
       "      <th>1</th>\n",
       "      <td>id_ijed267eqx_rgn.jpg</td>\n",
       "      <td>healthy</td>\n",
       "    </tr>\n",
       "    <tr>\n",
       "      <th>2</th>\n",
       "      <td>id_cowrg71851_rgn.jpg</td>\n",
       "      <td>blast</td>\n",
       "    </tr>\n",
       "    <tr>\n",
       "      <th>3</th>\n",
       "      <td>id_miimicy82t.jpg</td>\n",
       "      <td>healthy</td>\n",
       "    </tr>\n",
       "    <tr>\n",
       "      <th>4</th>\n",
       "      <td>id_t27yi6h5le_rgn.jpg</td>\n",
       "      <td>brown</td>\n",
       "    </tr>\n",
       "  </tbody>\n",
       "</table>\n",
       "</div>"
      ],
      "text/plain": [
       "                Image_id    Label\n",
       "0      id_0sil0chxq2.jpg    brown\n",
       "1  id_ijed267eqx_rgn.jpg  healthy\n",
       "2  id_cowrg71851_rgn.jpg    blast\n",
       "3      id_miimicy82t.jpg  healthy\n",
       "4  id_t27yi6h5le_rgn.jpg    brown"
      ]
     },
     "metadata": {},
     "output_type": "display_data"
    },
    {
     "data": {
      "text/html": [
       "<div>\n",
       "<style scoped>\n",
       "    .dataframe tbody tr th:only-of-type {\n",
       "        vertical-align: middle;\n",
       "    }\n",
       "\n",
       "    .dataframe tbody tr th {\n",
       "        vertical-align: top;\n",
       "    }\n",
       "\n",
       "    .dataframe thead th {\n",
       "        text-align: right;\n",
       "    }\n",
       "</style>\n",
       "<table border=\"1\" class=\"dataframe\">\n",
       "  <thead>\n",
       "    <tr style=\"text-align: right;\">\n",
       "      <th></th>\n",
       "      <th>Image_id</th>\n",
       "    </tr>\n",
       "  </thead>\n",
       "  <tbody>\n",
       "    <tr>\n",
       "      <th>0</th>\n",
       "      <td>id_mpeaaaamgr_rgn.jpg</td>\n",
       "    </tr>\n",
       "    <tr>\n",
       "      <th>1</th>\n",
       "      <td>id_cz3jnoimvm_rgn.jpg</td>\n",
       "    </tr>\n",
       "    <tr>\n",
       "      <th>2</th>\n",
       "      <td>id_zz6gzk7p97_rgn.jpg</td>\n",
       "    </tr>\n",
       "    <tr>\n",
       "      <th>3</th>\n",
       "      <td>id_spb6rl009i_rgn.jpg</td>\n",
       "    </tr>\n",
       "    <tr>\n",
       "      <th>4</th>\n",
       "      <td>id_179bxdmt6m.jpg</td>\n",
       "    </tr>\n",
       "  </tbody>\n",
       "</table>\n",
       "</div>"
      ],
      "text/plain": [
       "                Image_id\n",
       "0  id_mpeaaaamgr_rgn.jpg\n",
       "1  id_cz3jnoimvm_rgn.jpg\n",
       "2  id_zz6gzk7p97_rgn.jpg\n",
       "3  id_spb6rl009i_rgn.jpg\n",
       "4      id_179bxdmt6m.jpg"
      ]
     },
     "metadata": {},
     "output_type": "display_data"
    },
    {
     "data": {
      "text/html": [
       "<div>\n",
       "<style scoped>\n",
       "    .dataframe tbody tr th:only-of-type {\n",
       "        vertical-align: middle;\n",
       "    }\n",
       "\n",
       "    .dataframe tbody tr th {\n",
       "        vertical-align: top;\n",
       "    }\n",
       "\n",
       "    .dataframe thead th {\n",
       "        text-align: right;\n",
       "    }\n",
       "</style>\n",
       "<table border=\"1\" class=\"dataframe\">\n",
       "  <thead>\n",
       "    <tr style=\"text-align: right;\">\n",
       "      <th></th>\n",
       "      <th>Image_id</th>\n",
       "      <th>Label</th>\n",
       "    </tr>\n",
       "  </thead>\n",
       "  <tbody>\n",
       "    <tr>\n",
       "      <th>0</th>\n",
       "      <td>id_mpeaaaamgr_rgn.jpg</td>\n",
       "      <td>blast</td>\n",
       "    </tr>\n",
       "    <tr>\n",
       "      <th>1</th>\n",
       "      <td>id_cz3jnoimvm_rgn.jpg</td>\n",
       "      <td>blast</td>\n",
       "    </tr>\n",
       "    <tr>\n",
       "      <th>2</th>\n",
       "      <td>id_zz6gzk7p97_rgn.jpg</td>\n",
       "      <td>brown</td>\n",
       "    </tr>\n",
       "    <tr>\n",
       "      <th>3</th>\n",
       "      <td>id_spb6rl009i_rgn.jpg</td>\n",
       "      <td>brown</td>\n",
       "    </tr>\n",
       "    <tr>\n",
       "      <th>4</th>\n",
       "      <td>id_179bxdmt6m.jpg</td>\n",
       "      <td>blast</td>\n",
       "    </tr>\n",
       "  </tbody>\n",
       "</table>\n",
       "</div>"
      ],
      "text/plain": [
       "                Image_id  Label\n",
       "0  id_mpeaaaamgr_rgn.jpg  blast\n",
       "1  id_cz3jnoimvm_rgn.jpg  blast\n",
       "2  id_zz6gzk7p97_rgn.jpg  brown\n",
       "3  id_spb6rl009i_rgn.jpg  brown\n",
       "4      id_179bxdmt6m.jpg  blast"
      ]
     },
     "metadata": {},
     "output_type": "display_data"
    },
    {
     "data": {
      "text/html": [
       "<div>\n",
       "<style scoped>\n",
       "    .dataframe tbody tr th:only-of-type {\n",
       "        vertical-align: middle;\n",
       "    }\n",
       "\n",
       "    .dataframe tbody tr th {\n",
       "        vertical-align: top;\n",
       "    }\n",
       "\n",
       "    .dataframe thead th {\n",
       "        text-align: right;\n",
       "    }\n",
       "</style>\n",
       "<table border=\"1\" class=\"dataframe\">\n",
       "  <thead>\n",
       "    <tr style=\"text-align: right;\">\n",
       "      <th></th>\n",
       "      <th>Image_id</th>\n",
       "      <th>Label</th>\n",
       "    </tr>\n",
       "  </thead>\n",
       "  <tbody>\n",
       "    <tr>\n",
       "      <th>0</th>\n",
       "      <td>id_mpeaaaamgr_rgn.jpg</td>\n",
       "      <td>0</td>\n",
       "    </tr>\n",
       "    <tr>\n",
       "      <th>1</th>\n",
       "      <td>id_cz3jnoimvm_rgn.jpg</td>\n",
       "      <td>0</td>\n",
       "    </tr>\n",
       "    <tr>\n",
       "      <th>2</th>\n",
       "      <td>id_zz6gzk7p97_rgn.jpg</td>\n",
       "      <td>0</td>\n",
       "    </tr>\n",
       "    <tr>\n",
       "      <th>3</th>\n",
       "      <td>id_spb6rl009i_rgn.jpg</td>\n",
       "      <td>0</td>\n",
       "    </tr>\n",
       "    <tr>\n",
       "      <th>4</th>\n",
       "      <td>id_179bxdmt6m.jpg</td>\n",
       "      <td>0</td>\n",
       "    </tr>\n",
       "  </tbody>\n",
       "</table>\n",
       "</div>"
      ],
      "text/plain": [
       "                Image_id  Label\n",
       "0  id_mpeaaaamgr_rgn.jpg      0\n",
       "1  id_cz3jnoimvm_rgn.jpg      0\n",
       "2  id_zz6gzk7p97_rgn.jpg      0\n",
       "3  id_spb6rl009i_rgn.jpg      0\n",
       "4      id_179bxdmt6m.jpg      0"
      ]
     },
     "metadata": {},
     "output_type": "display_data"
    }
   ],
   "source": [
    "display(train.head())\n",
    "display(test.head())\n",
    "display(solution.head())\n",
    "display(sample_submission.head())"
   ]
  },
  {
   "cell_type": "code",
   "execution_count": 7,
   "id": "5c83c5fd",
   "metadata": {
    "execution": {
     "iopub.execute_input": "2022-11-15T11:32:09.874563Z",
     "iopub.status.busy": "2022-11-15T11:32:09.873658Z",
     "iopub.status.idle": "2022-11-15T11:32:09.883616Z",
     "shell.execute_reply": "2022-11-15T11:32:09.882372Z"
    },
    "papermill": {
     "duration": 0.020128,
     "end_time": "2022-11-15T11:32:09.886657",
     "exception": false,
     "start_time": "2022-11-15T11:32:09.866529",
     "status": "completed"
    },
    "tags": []
   },
   "outputs": [],
   "source": [
    "sample_submission = test\n",
    "sample_submission['Label'] = 0"
   ]
  },
  {
   "cell_type": "code",
   "execution_count": 8,
   "id": "20f20b7f",
   "metadata": {
    "execution": {
     "iopub.execute_input": "2022-11-15T11:32:09.899933Z",
     "iopub.status.busy": "2022-11-15T11:32:09.899390Z",
     "iopub.status.idle": "2022-11-15T11:32:09.911064Z",
     "shell.execute_reply": "2022-11-15T11:32:09.909866Z"
    },
    "papermill": {
     "duration": 0.02152,
     "end_time": "2022-11-15T11:32:09.913651",
     "exception": false,
     "start_time": "2022-11-15T11:32:09.892131",
     "status": "completed"
    },
    "tags": []
   },
   "outputs": [
    {
     "data": {
      "text/html": [
       "<div>\n",
       "<style scoped>\n",
       "    .dataframe tbody tr th:only-of-type {\n",
       "        vertical-align: middle;\n",
       "    }\n",
       "\n",
       "    .dataframe tbody tr th {\n",
       "        vertical-align: top;\n",
       "    }\n",
       "\n",
       "    .dataframe thead th {\n",
       "        text-align: right;\n",
       "    }\n",
       "</style>\n",
       "<table border=\"1\" class=\"dataframe\">\n",
       "  <thead>\n",
       "    <tr style=\"text-align: right;\">\n",
       "      <th></th>\n",
       "      <th>Image_id</th>\n",
       "      <th>Label</th>\n",
       "    </tr>\n",
       "  </thead>\n",
       "  <tbody>\n",
       "    <tr>\n",
       "      <th>0</th>\n",
       "      <td>id_mpeaaaamgr_rgn.jpg</td>\n",
       "      <td>0</td>\n",
       "    </tr>\n",
       "    <tr>\n",
       "      <th>1</th>\n",
       "      <td>id_cz3jnoimvm_rgn.jpg</td>\n",
       "      <td>0</td>\n",
       "    </tr>\n",
       "    <tr>\n",
       "      <th>2</th>\n",
       "      <td>id_zz6gzk7p97_rgn.jpg</td>\n",
       "      <td>0</td>\n",
       "    </tr>\n",
       "    <tr>\n",
       "      <th>3</th>\n",
       "      <td>id_spb6rl009i_rgn.jpg</td>\n",
       "      <td>0</td>\n",
       "    </tr>\n",
       "    <tr>\n",
       "      <th>4</th>\n",
       "      <td>id_179bxdmt6m.jpg</td>\n",
       "      <td>0</td>\n",
       "    </tr>\n",
       "  </tbody>\n",
       "</table>\n",
       "</div>"
      ],
      "text/plain": [
       "                Image_id  Label\n",
       "0  id_mpeaaaamgr_rgn.jpg      0\n",
       "1  id_cz3jnoimvm_rgn.jpg      0\n",
       "2  id_zz6gzk7p97_rgn.jpg      0\n",
       "3  id_spb6rl009i_rgn.jpg      0\n",
       "4      id_179bxdmt6m.jpg      0"
      ]
     },
     "execution_count": 8,
     "metadata": {},
     "output_type": "execute_result"
    }
   ],
   "source": [
    "sample_submission.head()"
   ]
  },
  {
   "cell_type": "code",
   "execution_count": 9,
   "id": "5dca56ac",
   "metadata": {
    "execution": {
     "iopub.execute_input": "2022-11-15T11:32:09.927289Z",
     "iopub.status.busy": "2022-11-15T11:32:09.926751Z",
     "iopub.status.idle": "2022-11-15T11:32:09.934433Z",
     "shell.execute_reply": "2022-11-15T11:32:09.933240Z"
    },
    "papermill": {
     "duration": 0.017764,
     "end_time": "2022-11-15T11:32:09.937071",
     "exception": false,
     "start_time": "2022-11-15T11:32:09.919307",
     "status": "completed"
    },
    "tags": []
   },
   "outputs": [
    {
     "data": {
      "text/plain": [
       "['__notebook__.ipynb']"
      ]
     },
     "execution_count": 9,
     "metadata": {},
     "output_type": "execute_result"
    }
   ],
   "source": [
    "os.listdir(\"./\")"
   ]
  },
  {
   "cell_type": "code",
   "execution_count": 10,
   "id": "e6960a81",
   "metadata": {
    "execution": {
     "iopub.execute_input": "2022-11-15T11:32:09.951213Z",
     "iopub.status.busy": "2022-11-15T11:32:09.950004Z",
     "iopub.status.idle": "2022-11-15T11:32:09.975969Z",
     "shell.execute_reply": "2022-11-15T11:32:09.974766Z"
    },
    "papermill": {
     "duration": 0.036336,
     "end_time": "2022-11-15T11:32:09.979062",
     "exception": false,
     "start_time": "2022-11-15T11:32:09.942726",
     "status": "completed"
    },
    "tags": []
   },
   "outputs": [],
   "source": [
    "train.to_csv(\"./train.csv\" , index=False)\n",
    "test.to_csv(\"./test.csv\",index=False)\n",
    "solution.to_csv(\"./solution.csv\", index=False)\n",
    "sample_submission.to_csv(\"./sample_submission.csv\", index=False)"
   ]
  },
  {
   "cell_type": "code",
   "execution_count": null,
   "id": "0c5620c5",
   "metadata": {
    "execution": {
     "iopub.execute_input": "2022-11-15T11:29:53.954327Z",
     "iopub.status.busy": "2022-11-15T11:29:53.953846Z",
     "iopub.status.idle": "2022-11-15T11:29:53.967001Z",
     "shell.execute_reply": "2022-11-15T11:29:53.965647Z",
     "shell.execute_reply.started": "2022-11-15T11:29:53.954291Z"
    },
    "papermill": {
     "duration": 0.005265,
     "end_time": "2022-11-15T11:32:09.990162",
     "exception": false,
     "start_time": "2022-11-15T11:32:09.984897",
     "status": "completed"
    },
    "tags": []
   },
   "outputs": [],
   "source": []
  },
  {
   "cell_type": "code",
   "execution_count": null,
   "id": "db6befc3",
   "metadata": {
    "papermill": {
     "duration": 0.005157,
     "end_time": "2022-11-15T11:32:10.000944",
     "exception": false,
     "start_time": "2022-11-15T11:32:09.995787",
     "status": "completed"
    },
    "tags": []
   },
   "outputs": [],
   "source": []
  }
 ],
 "metadata": {
  "kernelspec": {
   "display_name": "Python 3",
   "language": "python",
   "name": "python3"
  },
  "language_info": {
   "codemirror_mode": {
    "name": "ipython",
    "version": 3
   },
   "file_extension": ".py",
   "mimetype": "text/x-python",
   "name": "python",
   "nbconvert_exporter": "python",
   "pygments_lexer": "ipython3",
   "version": "3.7.12"
  },
  "papermill": {
   "default_parameters": {},
   "duration": 12.525859,
   "end_time": "2022-11-15T11:32:11.033565",
   "environment_variables": {},
   "exception": null,
   "input_path": "__notebook__.ipynb",
   "output_path": "__notebook__.ipynb",
   "parameters": {},
   "start_time": "2022-11-15T11:31:58.507706",
   "version": "2.3.4"
  }
 },
 "nbformat": 4,
 "nbformat_minor": 5
}
