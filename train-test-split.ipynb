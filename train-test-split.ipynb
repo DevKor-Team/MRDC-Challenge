{
 "cells": [
  {
   "cell_type": "code",
   "execution_count": 1,
   "id": "58226c65",
   "metadata": {
    "_cell_guid": "b1076dfc-b9ad-4769-8c92-a6c4dae69d19",
    "_uuid": "8f2839f25d086af736a60e9eeb907d3b93b6e0e5",
    "execution": {
     "iopub.execute_input": "2022-11-15T09:07:32.917749Z",
     "iopub.status.busy": "2022-11-15T09:07:32.917139Z",
     "iopub.status.idle": "2022-11-15T09:07:34.134865Z",
     "shell.execute_reply": "2022-11-15T09:07:34.133624Z"
    },
    "papermill": {
     "duration": 1.227897,
     "end_time": "2022-11-15T09:07:34.137862",
     "exception": false,
     "start_time": "2022-11-15T09:07:32.909965",
     "status": "completed"
    },
    "tags": []
   },
   "outputs": [],
   "source": [
    "import os\n",
    "import pandas as pd\n",
    "from sklearn.model_selection import train_test_split"
   ]
  },
  {
   "cell_type": "code",
   "execution_count": 2,
   "id": "3facbe57",
   "metadata": {
    "execution": {
     "iopub.execute_input": "2022-11-15T09:07:34.148657Z",
     "iopub.status.busy": "2022-11-15T09:07:34.147521Z",
     "iopub.status.idle": "2022-11-15T09:07:34.174636Z",
     "shell.execute_reply": "2022-11-15T09:07:34.173477Z"
    },
    "papermill": {
     "duration": 0.035733,
     "end_time": "2022-11-15T09:07:34.177876",
     "exception": false,
     "start_time": "2022-11-15T09:07:34.142143",
     "status": "completed"
    },
    "tags": []
   },
   "outputs": [],
   "source": [
    "OUTPUT_DIR = \"./\"\n",
    "if not os.path.exists(OUTPUT_DIR):\n",
    "    os.makedirs(OUTPUT_DIR)\n",
    "    \n",
    "BASE_DIR = \"../input/rice-disease-classification/archive\"\n",
    "\n",
    "train = pd.read_csv(os.path.join(BASE_DIR, 'Train.csv'))"
   ]
  },
  {
   "cell_type": "code",
   "execution_count": 3,
   "id": "d189b24c",
   "metadata": {
    "execution": {
     "iopub.execute_input": "2022-11-15T09:07:34.187937Z",
     "iopub.status.busy": "2022-11-15T09:07:34.187529Z",
     "iopub.status.idle": "2022-11-15T09:07:34.210786Z",
     "shell.execute_reply": "2022-11-15T09:07:34.209729Z"
    },
    "papermill": {
     "duration": 0.03105,
     "end_time": "2022-11-15T09:07:34.213333",
     "exception": false,
     "start_time": "2022-11-15T09:07:34.182283",
     "status": "completed"
    },
    "tags": []
   },
   "outputs": [
    {
     "data": {
      "text/html": [
       "<div>\n",
       "<style scoped>\n",
       "    .dataframe tbody tr th:only-of-type {\n",
       "        vertical-align: middle;\n",
       "    }\n",
       "\n",
       "    .dataframe tbody tr th {\n",
       "        vertical-align: top;\n",
       "    }\n",
       "\n",
       "    .dataframe thead th {\n",
       "        text-align: right;\n",
       "    }\n",
       "</style>\n",
       "<table border=\"1\" class=\"dataframe\">\n",
       "  <thead>\n",
       "    <tr style=\"text-align: right;\">\n",
       "      <th></th>\n",
       "      <th>Image_id</th>\n",
       "      <th>Label</th>\n",
       "    </tr>\n",
       "  </thead>\n",
       "  <tbody>\n",
       "    <tr>\n",
       "      <th>0</th>\n",
       "      <td>id_004wknd7qd.jpg</td>\n",
       "      <td>blast</td>\n",
       "    </tr>\n",
       "    <tr>\n",
       "      <th>1</th>\n",
       "      <td>id_004wknd7qd_rgn.jpg</td>\n",
       "      <td>blast</td>\n",
       "    </tr>\n",
       "    <tr>\n",
       "      <th>2</th>\n",
       "      <td>id_005sitfgr2.jpg</td>\n",
       "      <td>brown</td>\n",
       "    </tr>\n",
       "    <tr>\n",
       "      <th>3</th>\n",
       "      <td>id_005sitfgr2_rgn.jpg</td>\n",
       "      <td>brown</td>\n",
       "    </tr>\n",
       "    <tr>\n",
       "      <th>4</th>\n",
       "      <td>id_00stp9t6m6.jpg</td>\n",
       "      <td>blast</td>\n",
       "    </tr>\n",
       "  </tbody>\n",
       "</table>\n",
       "</div>"
      ],
      "text/plain": [
       "                Image_id  Label\n",
       "0      id_004wknd7qd.jpg  blast\n",
       "1  id_004wknd7qd_rgn.jpg  blast\n",
       "2      id_005sitfgr2.jpg  brown\n",
       "3  id_005sitfgr2_rgn.jpg  brown\n",
       "4      id_00stp9t6m6.jpg  blast"
      ]
     },
     "metadata": {},
     "output_type": "display_data"
    }
   ],
   "source": [
    "display(train.head())"
   ]
  },
  {
   "cell_type": "code",
   "execution_count": 4,
   "id": "3d47bf83",
   "metadata": {
    "execution": {
     "iopub.execute_input": "2022-11-15T09:07:34.224135Z",
     "iopub.status.busy": "2022-11-15T09:07:34.222935Z",
     "iopub.status.idle": "2022-11-15T09:07:34.233951Z",
     "shell.execute_reply": "2022-11-15T09:07:34.233033Z"
    },
    "papermill": {
     "duration": 0.018968,
     "end_time": "2022-11-15T09:07:34.236624",
     "exception": false,
     "start_time": "2022-11-15T09:07:34.217656",
     "status": "completed"
    },
    "tags": []
   },
   "outputs": [],
   "source": [
    "# splitting the dataset\n",
    "# train : test = 8 : 2\n",
    "train_names, test_names = train_test_split(train, test_size = 0.2, random_state = 42, shuffle = True)\n",
    "train_names = train_names.reset_index(drop=True)\n",
    "test_names = test_names.reset_index(drop=True)"
   ]
  },
  {
   "cell_type": "code",
   "execution_count": 5,
   "id": "8ff13451",
   "metadata": {
    "execution": {
     "iopub.execute_input": "2022-11-15T09:07:34.247115Z",
     "iopub.status.busy": "2022-11-15T09:07:34.245985Z",
     "iopub.status.idle": "2022-11-15T09:07:34.259471Z",
     "shell.execute_reply": "2022-11-15T09:07:34.258133Z"
    },
    "papermill": {
     "duration": 0.021324,
     "end_time": "2022-11-15T09:07:34.262052",
     "exception": false,
     "start_time": "2022-11-15T09:07:34.240728",
     "status": "completed"
    },
    "tags": []
   },
   "outputs": [
    {
     "data": {
      "text/html": [
       "<div>\n",
       "<style scoped>\n",
       "    .dataframe tbody tr th:only-of-type {\n",
       "        vertical-align: middle;\n",
       "    }\n",
       "\n",
       "    .dataframe tbody tr th {\n",
       "        vertical-align: top;\n",
       "    }\n",
       "\n",
       "    .dataframe thead th {\n",
       "        text-align: right;\n",
       "    }\n",
       "</style>\n",
       "<table border=\"1\" class=\"dataframe\">\n",
       "  <thead>\n",
       "    <tr style=\"text-align: right;\">\n",
       "      <th></th>\n",
       "      <th>Image_id</th>\n",
       "      <th>Label</th>\n",
       "    </tr>\n",
       "  </thead>\n",
       "  <tbody>\n",
       "    <tr>\n",
       "      <th>0</th>\n",
       "      <td>id_0sil0chxq2.jpg</td>\n",
       "      <td>brown</td>\n",
       "    </tr>\n",
       "    <tr>\n",
       "      <th>1</th>\n",
       "      <td>id_ijed267eqx_rgn.jpg</td>\n",
       "      <td>healthy</td>\n",
       "    </tr>\n",
       "    <tr>\n",
       "      <th>2</th>\n",
       "      <td>id_cowrg71851_rgn.jpg</td>\n",
       "      <td>blast</td>\n",
       "    </tr>\n",
       "    <tr>\n",
       "      <th>3</th>\n",
       "      <td>id_miimicy82t.jpg</td>\n",
       "      <td>healthy</td>\n",
       "    </tr>\n",
       "    <tr>\n",
       "      <th>4</th>\n",
       "      <td>id_t27yi6h5le_rgn.jpg</td>\n",
       "      <td>brown</td>\n",
       "    </tr>\n",
       "    <tr>\n",
       "      <th>...</th>\n",
       "      <td>...</td>\n",
       "      <td>...</td>\n",
       "    </tr>\n",
       "    <tr>\n",
       "      <th>4267</th>\n",
       "      <td>id_krww0zq9ve.jpg</td>\n",
       "      <td>blast</td>\n",
       "    </tr>\n",
       "    <tr>\n",
       "      <th>4268</th>\n",
       "      <td>id_pewcj20st6.jpg</td>\n",
       "      <td>brown</td>\n",
       "    </tr>\n",
       "    <tr>\n",
       "      <th>4269</th>\n",
       "      <td>id_z39yt179k3_rgn.jpg</td>\n",
       "      <td>brown</td>\n",
       "    </tr>\n",
       "    <tr>\n",
       "      <th>4270</th>\n",
       "      <td>id_zc7jyiweh2.jpg</td>\n",
       "      <td>healthy</td>\n",
       "    </tr>\n",
       "    <tr>\n",
       "      <th>4271</th>\n",
       "      <td>id_5umfbwak8k.jpg</td>\n",
       "      <td>healthy</td>\n",
       "    </tr>\n",
       "  </tbody>\n",
       "</table>\n",
       "<p>4272 rows × 2 columns</p>\n",
       "</div>"
      ],
      "text/plain": [
       "                   Image_id    Label\n",
       "0         id_0sil0chxq2.jpg    brown\n",
       "1     id_ijed267eqx_rgn.jpg  healthy\n",
       "2     id_cowrg71851_rgn.jpg    blast\n",
       "3         id_miimicy82t.jpg  healthy\n",
       "4     id_t27yi6h5le_rgn.jpg    brown\n",
       "...                     ...      ...\n",
       "4267      id_krww0zq9ve.jpg    blast\n",
       "4268      id_pewcj20st6.jpg    brown\n",
       "4269  id_z39yt179k3_rgn.jpg    brown\n",
       "4270      id_zc7jyiweh2.jpg  healthy\n",
       "4271      id_5umfbwak8k.jpg  healthy\n",
       "\n",
       "[4272 rows x 2 columns]"
      ]
     },
     "metadata": {},
     "output_type": "display_data"
    }
   ],
   "source": [
    "display(train_names)"
   ]
  },
  {
   "cell_type": "code",
   "execution_count": 6,
   "id": "b18df1ca",
   "metadata": {
    "execution": {
     "iopub.execute_input": "2022-11-15T09:07:34.273033Z",
     "iopub.status.busy": "2022-11-15T09:07:34.272631Z",
     "iopub.status.idle": "2022-11-15T09:07:34.285008Z",
     "shell.execute_reply": "2022-11-15T09:07:34.283955Z"
    },
    "papermill": {
     "duration": 0.020537,
     "end_time": "2022-11-15T09:07:34.287384",
     "exception": false,
     "start_time": "2022-11-15T09:07:34.266847",
     "status": "completed"
    },
    "tags": []
   },
   "outputs": [
    {
     "data": {
      "text/html": [
       "<div>\n",
       "<style scoped>\n",
       "    .dataframe tbody tr th:only-of-type {\n",
       "        vertical-align: middle;\n",
       "    }\n",
       "\n",
       "    .dataframe tbody tr th {\n",
       "        vertical-align: top;\n",
       "    }\n",
       "\n",
       "    .dataframe thead th {\n",
       "        text-align: right;\n",
       "    }\n",
       "</style>\n",
       "<table border=\"1\" class=\"dataframe\">\n",
       "  <thead>\n",
       "    <tr style=\"text-align: right;\">\n",
       "      <th></th>\n",
       "      <th>Image_id</th>\n",
       "      <th>Label</th>\n",
       "    </tr>\n",
       "  </thead>\n",
       "  <tbody>\n",
       "    <tr>\n",
       "      <th>0</th>\n",
       "      <td>id_mpeaaaamgr_rgn.jpg</td>\n",
       "      <td>blast</td>\n",
       "    </tr>\n",
       "    <tr>\n",
       "      <th>1</th>\n",
       "      <td>id_cz3jnoimvm_rgn.jpg</td>\n",
       "      <td>blast</td>\n",
       "    </tr>\n",
       "    <tr>\n",
       "      <th>2</th>\n",
       "      <td>id_zz6gzk7p97_rgn.jpg</td>\n",
       "      <td>brown</td>\n",
       "    </tr>\n",
       "    <tr>\n",
       "      <th>3</th>\n",
       "      <td>id_spb6rl009i_rgn.jpg</td>\n",
       "      <td>brown</td>\n",
       "    </tr>\n",
       "    <tr>\n",
       "      <th>4</th>\n",
       "      <td>id_179bxdmt6m.jpg</td>\n",
       "      <td>blast</td>\n",
       "    </tr>\n",
       "    <tr>\n",
       "      <th>...</th>\n",
       "      <td>...</td>\n",
       "      <td>...</td>\n",
       "    </tr>\n",
       "    <tr>\n",
       "      <th>1063</th>\n",
       "      <td>id_ummlbkxlh8_rgn.jpg</td>\n",
       "      <td>blast</td>\n",
       "    </tr>\n",
       "    <tr>\n",
       "      <th>1064</th>\n",
       "      <td>id_4g0nlxb3ka.jpg</td>\n",
       "      <td>blast</td>\n",
       "    </tr>\n",
       "    <tr>\n",
       "      <th>1065</th>\n",
       "      <td>id_vo8hmt8hk3_rgn.jpg</td>\n",
       "      <td>blast</td>\n",
       "    </tr>\n",
       "    <tr>\n",
       "      <th>1066</th>\n",
       "      <td>id_qefuurxm4g_rgn.jpg</td>\n",
       "      <td>blast</td>\n",
       "    </tr>\n",
       "    <tr>\n",
       "      <th>1067</th>\n",
       "      <td>id_8xk0bvgwug_rgn.jpg</td>\n",
       "      <td>blast</td>\n",
       "    </tr>\n",
       "  </tbody>\n",
       "</table>\n",
       "<p>1068 rows × 2 columns</p>\n",
       "</div>"
      ],
      "text/plain": [
       "                   Image_id  Label\n",
       "0     id_mpeaaaamgr_rgn.jpg  blast\n",
       "1     id_cz3jnoimvm_rgn.jpg  blast\n",
       "2     id_zz6gzk7p97_rgn.jpg  brown\n",
       "3     id_spb6rl009i_rgn.jpg  brown\n",
       "4         id_179bxdmt6m.jpg  blast\n",
       "...                     ...    ...\n",
       "1063  id_ummlbkxlh8_rgn.jpg  blast\n",
       "1064      id_4g0nlxb3ka.jpg  blast\n",
       "1065  id_vo8hmt8hk3_rgn.jpg  blast\n",
       "1066  id_qefuurxm4g_rgn.jpg  blast\n",
       "1067  id_8xk0bvgwug_rgn.jpg  blast\n",
       "\n",
       "[1068 rows x 2 columns]"
      ]
     },
     "metadata": {},
     "output_type": "display_data"
    }
   ],
   "source": [
    "display(test_names)"
   ]
  },
  {
   "cell_type": "code",
   "execution_count": 7,
   "id": "76185f05",
   "metadata": {
    "execution": {
     "iopub.execute_input": "2022-11-15T09:07:34.297989Z",
     "iopub.status.busy": "2022-11-15T09:07:34.297605Z",
     "iopub.status.idle": "2022-11-15T09:07:34.307596Z",
     "shell.execute_reply": "2022-11-15T09:07:34.306691Z"
    },
    "papermill": {
     "duration": 0.018043,
     "end_time": "2022-11-15T09:07:34.309948",
     "exception": false,
     "start_time": "2022-11-15T09:07:34.291905",
     "status": "completed"
    },
    "tags": []
   },
   "outputs": [],
   "source": [
    "test = test_names.drop(['Label'], axis = 1)"
   ]
  },
  {
   "cell_type": "code",
   "execution_count": 8,
   "id": "b8739a1f",
   "metadata": {
    "execution": {
     "iopub.execute_input": "2022-11-15T09:07:34.320400Z",
     "iopub.status.busy": "2022-11-15T09:07:34.319999Z",
     "iopub.status.idle": "2022-11-15T09:07:34.329251Z",
     "shell.execute_reply": "2022-11-15T09:07:34.328103Z"
    },
    "papermill": {
     "duration": 0.017316,
     "end_time": "2022-11-15T09:07:34.331693",
     "exception": false,
     "start_time": "2022-11-15T09:07:34.314377",
     "status": "completed"
    },
    "tags": []
   },
   "outputs": [
    {
     "data": {
      "text/html": [
       "<div>\n",
       "<style scoped>\n",
       "    .dataframe tbody tr th:only-of-type {\n",
       "        vertical-align: middle;\n",
       "    }\n",
       "\n",
       "    .dataframe tbody tr th {\n",
       "        vertical-align: top;\n",
       "    }\n",
       "\n",
       "    .dataframe thead th {\n",
       "        text-align: right;\n",
       "    }\n",
       "</style>\n",
       "<table border=\"1\" class=\"dataframe\">\n",
       "  <thead>\n",
       "    <tr style=\"text-align: right;\">\n",
       "      <th></th>\n",
       "      <th>Image_id</th>\n",
       "    </tr>\n",
       "  </thead>\n",
       "  <tbody>\n",
       "    <tr>\n",
       "      <th>0</th>\n",
       "      <td>id_mpeaaaamgr_rgn.jpg</td>\n",
       "    </tr>\n",
       "    <tr>\n",
       "      <th>1</th>\n",
       "      <td>id_cz3jnoimvm_rgn.jpg</td>\n",
       "    </tr>\n",
       "    <tr>\n",
       "      <th>2</th>\n",
       "      <td>id_zz6gzk7p97_rgn.jpg</td>\n",
       "    </tr>\n",
       "    <tr>\n",
       "      <th>3</th>\n",
       "      <td>id_spb6rl009i_rgn.jpg</td>\n",
       "    </tr>\n",
       "    <tr>\n",
       "      <th>4</th>\n",
       "      <td>id_179bxdmt6m.jpg</td>\n",
       "    </tr>\n",
       "  </tbody>\n",
       "</table>\n",
       "</div>"
      ],
      "text/plain": [
       "                Image_id\n",
       "0  id_mpeaaaamgr_rgn.jpg\n",
       "1  id_cz3jnoimvm_rgn.jpg\n",
       "2  id_zz6gzk7p97_rgn.jpg\n",
       "3  id_spb6rl009i_rgn.jpg\n",
       "4      id_179bxdmt6m.jpg"
      ]
     },
     "execution_count": 8,
     "metadata": {},
     "output_type": "execute_result"
    }
   ],
   "source": [
    "test.head()"
   ]
  },
  {
   "cell_type": "code",
   "execution_count": 9,
   "id": "07d3218e",
   "metadata": {
    "execution": {
     "iopub.execute_input": "2022-11-15T09:07:34.346250Z",
     "iopub.status.busy": "2022-11-15T09:07:34.345648Z",
     "iopub.status.idle": "2022-11-15T09:07:34.355200Z",
     "shell.execute_reply": "2022-11-15T09:07:34.354281Z"
    },
    "papermill": {
     "duration": 0.021568,
     "end_time": "2022-11-15T09:07:34.358748",
     "exception": false,
     "start_time": "2022-11-15T09:07:34.337180",
     "status": "completed"
    },
    "tags": []
   },
   "outputs": [],
   "source": [
    "sample_submission = test\n",
    "sample_submission['Label'] = 0"
   ]
  },
  {
   "cell_type": "code",
   "execution_count": 10,
   "id": "9cc32548",
   "metadata": {
    "execution": {
     "iopub.execute_input": "2022-11-15T09:07:34.373380Z",
     "iopub.status.busy": "2022-11-15T09:07:34.372784Z",
     "iopub.status.idle": "2022-11-15T09:07:34.383641Z",
     "shell.execute_reply": "2022-11-15T09:07:34.382545Z"
    },
    "papermill": {
     "duration": 0.020471,
     "end_time": "2022-11-15T09:07:34.385978",
     "exception": false,
     "start_time": "2022-11-15T09:07:34.365507",
     "status": "completed"
    },
    "tags": []
   },
   "outputs": [
    {
     "data": {
      "text/html": [
       "<div>\n",
       "<style scoped>\n",
       "    .dataframe tbody tr th:only-of-type {\n",
       "        vertical-align: middle;\n",
       "    }\n",
       "\n",
       "    .dataframe tbody tr th {\n",
       "        vertical-align: top;\n",
       "    }\n",
       "\n",
       "    .dataframe thead th {\n",
       "        text-align: right;\n",
       "    }\n",
       "</style>\n",
       "<table border=\"1\" class=\"dataframe\">\n",
       "  <thead>\n",
       "    <tr style=\"text-align: right;\">\n",
       "      <th></th>\n",
       "      <th>Image_id</th>\n",
       "      <th>Label</th>\n",
       "    </tr>\n",
       "  </thead>\n",
       "  <tbody>\n",
       "    <tr>\n",
       "      <th>0</th>\n",
       "      <td>id_mpeaaaamgr_rgn.jpg</td>\n",
       "      <td>0</td>\n",
       "    </tr>\n",
       "    <tr>\n",
       "      <th>1</th>\n",
       "      <td>id_cz3jnoimvm_rgn.jpg</td>\n",
       "      <td>0</td>\n",
       "    </tr>\n",
       "    <tr>\n",
       "      <th>2</th>\n",
       "      <td>id_zz6gzk7p97_rgn.jpg</td>\n",
       "      <td>0</td>\n",
       "    </tr>\n",
       "    <tr>\n",
       "      <th>3</th>\n",
       "      <td>id_spb6rl009i_rgn.jpg</td>\n",
       "      <td>0</td>\n",
       "    </tr>\n",
       "    <tr>\n",
       "      <th>4</th>\n",
       "      <td>id_179bxdmt6m.jpg</td>\n",
       "      <td>0</td>\n",
       "    </tr>\n",
       "  </tbody>\n",
       "</table>\n",
       "</div>"
      ],
      "text/plain": [
       "                Image_id  Label\n",
       "0  id_mpeaaaamgr_rgn.jpg      0\n",
       "1  id_cz3jnoimvm_rgn.jpg      0\n",
       "2  id_zz6gzk7p97_rgn.jpg      0\n",
       "3  id_spb6rl009i_rgn.jpg      0\n",
       "4      id_179bxdmt6m.jpg      0"
      ]
     },
     "execution_count": 10,
     "metadata": {},
     "output_type": "execute_result"
    }
   ],
   "source": [
    "sample_submission.head()"
   ]
  },
  {
   "cell_type": "code",
   "execution_count": 11,
   "id": "ce8d0694",
   "metadata": {
    "execution": {
     "iopub.execute_input": "2022-11-15T09:07:34.397472Z",
     "iopub.status.busy": "2022-11-15T09:07:34.397091Z",
     "iopub.status.idle": "2022-11-15T09:07:34.403716Z",
     "shell.execute_reply": "2022-11-15T09:07:34.402623Z"
    },
    "papermill": {
     "duration": 0.015057,
     "end_time": "2022-11-15T09:07:34.405940",
     "exception": false,
     "start_time": "2022-11-15T09:07:34.390883",
     "status": "completed"
    },
    "tags": []
   },
   "outputs": [
    {
     "data": {
      "text/plain": [
       "['__notebook__.ipynb']"
      ]
     },
     "execution_count": 11,
     "metadata": {},
     "output_type": "execute_result"
    }
   ],
   "source": [
    "os.listdir(\"./\")"
   ]
  },
  {
   "cell_type": "code",
   "execution_count": 12,
   "id": "db1f3abd",
   "metadata": {
    "execution": {
     "iopub.execute_input": "2022-11-15T09:07:34.419429Z",
     "iopub.status.busy": "2022-11-15T09:07:34.418229Z",
     "iopub.status.idle": "2022-11-15T09:07:34.444670Z",
     "shell.execute_reply": "2022-11-15T09:07:34.443394Z"
    },
    "papermill": {
     "duration": 0.036156,
     "end_time": "2022-11-15T09:07:34.447309",
     "exception": false,
     "start_time": "2022-11-15T09:07:34.411153",
     "status": "completed"
    },
    "tags": []
   },
   "outputs": [],
   "source": [
    "train_names.to_csv(\"./train.csv\")\n",
    "test.to_csv(\"./test.csv\")\n",
    "test_names.to_csv(\"./scoring.csv\")\n",
    "sample_submission.to_csv(\"./sample_submission.csv\")"
   ]
  },
  {
   "cell_type": "code",
   "execution_count": null,
   "id": "56f8cb3d",
   "metadata": {
    "papermill": {
     "duration": 0.004467,
     "end_time": "2022-11-15T09:07:34.456907",
     "exception": false,
     "start_time": "2022-11-15T09:07:34.452440",
     "status": "completed"
    },
    "tags": []
   },
   "outputs": [],
   "source": []
  }
 ],
 "metadata": {
  "kernelspec": {
   "display_name": "Python 3",
   "language": "python",
   "name": "python3"
  },
  "language_info": {
   "codemirror_mode": {
    "name": "ipython",
    "version": 3
   },
   "file_extension": ".py",
   "mimetype": "text/x-python",
   "name": "python",
   "nbconvert_exporter": "python",
   "pygments_lexer": "ipython3",
   "version": "3.7.12"
  },
  "papermill": {
   "default_parameters": {},
   "duration": 11.398226,
   "end_time": "2022-11-15T09:07:35.184184",
   "environment_variables": {},
   "exception": null,
   "input_path": "__notebook__.ipynb",
   "output_path": "__notebook__.ipynb",
   "parameters": {},
   "start_time": "2022-11-15T09:07:23.785958",
   "version": "2.3.4"
  }
 },
 "nbformat": 4,
 "nbformat_minor": 5
}
