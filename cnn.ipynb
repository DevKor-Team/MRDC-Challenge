{
 "cells": [
  {
   "cell_type": "code",
   "execution_count": 1,
   "id": "c30fba53",
   "metadata": {
    "_cell_guid": "b1076dfc-b9ad-4769-8c92-a6c4dae69d19",
    "_uuid": "8f2839f25d086af736a60e9eeb907d3b93b6e0e5",
    "execution": {
     "iopub.execute_input": "2022-07-31T02:33:32.902464Z",
     "iopub.status.busy": "2022-07-31T02:33:32.901402Z",
     "iopub.status.idle": "2022-07-31T02:33:32.935686Z",
     "shell.execute_reply": "2022-07-31T02:33:32.934768Z"
    },
    "papermill": {
     "duration": 0.044917,
     "end_time": "2022-07-31T02:33:32.938247",
     "exception": false,
     "start_time": "2022-07-31T02:33:32.893330",
     "status": "completed"
    },
    "tags": []
   },
   "outputs": [],
   "source": [
    "# Load the data\n",
    "import os\n",
    "import pandas as pd\n",
    "import numpy as np\n",
    "\n",
    "\n",
    "BASE_DIR = \"../input/microsoft-rice-disease-classification-challenge\"\n",
    "\n",
    "train = pd.read_csv(os.path.join(BASE_DIR, 'Train.csv'))\n",
    "test = pd.read_csv(os.path.join(BASE_DIR, 'Test.csv'))"
   ]
  },
  {
   "cell_type": "code",
   "execution_count": 2,
   "id": "bd7a64ec",
   "metadata": {
    "execution": {
     "iopub.execute_input": "2022-07-31T02:33:32.950870Z",
     "iopub.status.busy": "2022-07-31T02:33:32.950598Z",
     "iopub.status.idle": "2022-07-31T02:33:32.966020Z",
     "shell.execute_reply": "2022-07-31T02:33:32.964601Z"
    },
    "papermill": {
     "duration": 0.0236,
     "end_time": "2022-07-31T02:33:32.967917",
     "exception": false,
     "start_time": "2022-07-31T02:33:32.944317",
     "status": "completed"
    },
    "tags": []
   },
   "outputs": [
    {
     "name": "stdout",
     "output_type": "stream",
     "text": [
      "{'blast': 0, 'brown': 1, 'healthy': 2}\n"
     ]
    }
   ],
   "source": [
    "class_mapping = {label: idx for idx, label in enumerate(np.unique(train['Label']))}\n",
    "print(class_mapping)"
   ]
  },
  {
   "cell_type": "code",
   "execution_count": 3,
   "id": "3228fdda",
   "metadata": {
    "execution": {
     "iopub.execute_input": "2022-07-31T02:33:32.980997Z",
     "iopub.status.busy": "2022-07-31T02:33:32.980195Z",
     "iopub.status.idle": "2022-07-31T02:33:33.000509Z",
     "shell.execute_reply": "2022-07-31T02:33:32.999615Z"
    },
    "papermill": {
     "duration": 0.028923,
     "end_time": "2022-07-31T02:33:33.002434",
     "exception": false,
     "start_time": "2022-07-31T02:33:32.973511",
     "status": "completed"
    },
    "tags": []
   },
   "outputs": [
    {
     "data": {
      "text/html": [
       "<div>\n",
       "<style scoped>\n",
       "    .dataframe tbody tr th:only-of-type {\n",
       "        vertical-align: middle;\n",
       "    }\n",
       "\n",
       "    .dataframe tbody tr th {\n",
       "        vertical-align: top;\n",
       "    }\n",
       "\n",
       "    .dataframe thead th {\n",
       "        text-align: right;\n",
       "    }\n",
       "</style>\n",
       "<table border=\"1\" class=\"dataframe\">\n",
       "  <thead>\n",
       "    <tr style=\"text-align: right;\">\n",
       "      <th></th>\n",
       "      <th>Image_id</th>\n",
       "      <th>Label</th>\n",
       "    </tr>\n",
       "  </thead>\n",
       "  <tbody>\n",
       "    <tr>\n",
       "      <th>0</th>\n",
       "      <td>id_004wknd7qd.jpg</td>\n",
       "      <td>0</td>\n",
       "    </tr>\n",
       "    <tr>\n",
       "      <th>1</th>\n",
       "      <td>id_004wknd7qd_rgn.jpg</td>\n",
       "      <td>0</td>\n",
       "    </tr>\n",
       "    <tr>\n",
       "      <th>2</th>\n",
       "      <td>id_005sitfgr2.jpg</td>\n",
       "      <td>1</td>\n",
       "    </tr>\n",
       "    <tr>\n",
       "      <th>3</th>\n",
       "      <td>id_005sitfgr2_rgn.jpg</td>\n",
       "      <td>1</td>\n",
       "    </tr>\n",
       "    <tr>\n",
       "      <th>4</th>\n",
       "      <td>id_00stp9t6m6.jpg</td>\n",
       "      <td>0</td>\n",
       "    </tr>\n",
       "    <tr>\n",
       "      <th>...</th>\n",
       "      <td>...</td>\n",
       "      <td>...</td>\n",
       "    </tr>\n",
       "    <tr>\n",
       "      <th>5335</th>\n",
       "      <td>id_zz6gzk7p97_rgn.jpg</td>\n",
       "      <td>1</td>\n",
       "    </tr>\n",
       "    <tr>\n",
       "      <th>5336</th>\n",
       "      <td>id_zz8ca2p67e.jpg</td>\n",
       "      <td>0</td>\n",
       "    </tr>\n",
       "    <tr>\n",
       "      <th>5337</th>\n",
       "      <td>id_zz8ca2p67e_rgn.jpg</td>\n",
       "      <td>0</td>\n",
       "    </tr>\n",
       "    <tr>\n",
       "      <th>5338</th>\n",
       "      <td>id_zzt8y9q0x0.jpg</td>\n",
       "      <td>1</td>\n",
       "    </tr>\n",
       "    <tr>\n",
       "      <th>5339</th>\n",
       "      <td>id_zzt8y9q0x0_rgn.jpg</td>\n",
       "      <td>1</td>\n",
       "    </tr>\n",
       "  </tbody>\n",
       "</table>\n",
       "<p>5340 rows × 2 columns</p>\n",
       "</div>"
      ],
      "text/plain": [
       "                   Image_id  Label\n",
       "0         id_004wknd7qd.jpg      0\n",
       "1     id_004wknd7qd_rgn.jpg      0\n",
       "2         id_005sitfgr2.jpg      1\n",
       "3     id_005sitfgr2_rgn.jpg      1\n",
       "4         id_00stp9t6m6.jpg      0\n",
       "...                     ...    ...\n",
       "5335  id_zz6gzk7p97_rgn.jpg      1\n",
       "5336      id_zz8ca2p67e.jpg      0\n",
       "5337  id_zz8ca2p67e_rgn.jpg      0\n",
       "5338      id_zzt8y9q0x0.jpg      1\n",
       "5339  id_zzt8y9q0x0_rgn.jpg      1\n",
       "\n",
       "[5340 rows x 2 columns]"
      ]
     },
     "execution_count": 3,
     "metadata": {},
     "output_type": "execute_result"
    }
   ],
   "source": [
    "# 클래스 레이블을 문자열에서 정수로 바꿉니다\n",
    "\n",
    "train['Label'] = train['Label'].map(class_mapping)\n",
    "train"
   ]
  },
  {
   "cell_type": "code",
   "execution_count": 4,
   "id": "0c425003",
   "metadata": {
    "execution": {
     "iopub.execute_input": "2022-07-31T02:33:33.015364Z",
     "iopub.status.busy": "2022-07-31T02:33:33.014741Z",
     "iopub.status.idle": "2022-07-31T02:33:33.024249Z",
     "shell.execute_reply": "2022-07-31T02:33:33.023276Z"
    },
    "papermill": {
     "duration": 0.018016,
     "end_time": "2022-07-31T02:33:33.026208",
     "exception": false,
     "start_time": "2022-07-31T02:33:33.008192",
     "status": "completed"
    },
    "tags": []
   },
   "outputs": [
    {
     "data": {
      "text/plain": [
       "0    2988\n",
       "1    1532\n",
       "2     820\n",
       "Name: Label, dtype: int64"
      ]
     },
     "execution_count": 4,
     "metadata": {},
     "output_type": "execute_result"
    }
   ],
   "source": [
    "train['Label'].value_counts()"
   ]
  },
  {
   "cell_type": "code",
   "execution_count": 5,
   "id": "95311d28",
   "metadata": {
    "execution": {
     "iopub.execute_input": "2022-07-31T02:33:33.039081Z",
     "iopub.status.busy": "2022-07-31T02:33:33.038359Z",
     "iopub.status.idle": "2022-07-31T02:33:33.042892Z",
     "shell.execute_reply": "2022-07-31T02:33:33.042071Z"
    },
    "papermill": {
     "duration": 0.0132,
     "end_time": "2022-07-31T02:33:33.045064",
     "exception": false,
     "start_time": "2022-07-31T02:33:33.031864",
     "status": "completed"
    },
    "tags": []
   },
   "outputs": [],
   "source": [
    "train_target = train.Label"
   ]
  },
  {
   "cell_type": "code",
   "execution_count": 6,
   "id": "b89bbcd7",
   "metadata": {
    "execution": {
     "iopub.execute_input": "2022-07-31T02:33:33.057288Z",
     "iopub.status.busy": "2022-07-31T02:33:33.057046Z",
     "iopub.status.idle": "2022-07-31T02:33:37.708497Z",
     "shell.execute_reply": "2022-07-31T02:33:37.707527Z"
    },
    "papermill": {
     "duration": 4.660208,
     "end_time": "2022-07-31T02:33:37.710863",
     "exception": false,
     "start_time": "2022-07-31T02:33:33.050655",
     "status": "completed"
    },
    "tags": []
   },
   "outputs": [],
   "source": [
    "import os\n",
    "os.environ['TF_CPP_MIN_LOG_LEVEL'] = '3' \n",
    "import tensorflow as tf"
   ]
  },
  {
   "cell_type": "code",
   "execution_count": 7,
   "id": "b18b15a1",
   "metadata": {
    "execution": {
     "iopub.execute_input": "2022-07-31T02:33:37.724922Z",
     "iopub.status.busy": "2022-07-31T02:33:37.724397Z",
     "iopub.status.idle": "2022-07-31T02:36:07.813209Z",
     "shell.execute_reply": "2022-07-31T02:36:07.812193Z"
    },
    "papermill": {
     "duration": 150.098189,
     "end_time": "2022-07-31T02:36:07.815849",
     "exception": false,
     "start_time": "2022-07-31T02:33:37.717660",
     "status": "completed"
    },
    "tags": []
   },
   "outputs": [
    {
     "name": "stderr",
     "output_type": "stream",
     "text": [
      "100%|██████████| 5340/5340 [02:28<00:00, 35.85it/s]\n"
     ]
    }
   ],
   "source": [
    "from tqdm import tqdm # tqdm : 작업진행률 표시\n",
    "from tensorflow.keras.preprocessing import image\n",
    "\n",
    "img_height = 100\n",
    "img_width = 100\n",
    "\n",
    "train_scaled = []\n",
    "\n",
    "for i in tqdm(range(train.shape[0])):\n",
    "    path = os.path.join(BASE_DIR, 'Images/') + train['Image_id'][i]\n",
    "    img = image.load_img(path, target_size=(img_height, img_width, 3)) # 3: RGB이므로 3채널\n",
    "    img = image.img_to_array(img)\n",
    "    img = img/255.0\n",
    "    train_scaled.append(img)\n",
    "\n",
    "train_scaled = np.array(train_scaled) # X와 np.array(X) 차이 ?\n",
    "# 저장해두는 법"
   ]
  },
  {
   "cell_type": "markdown",
   "id": "5343fe8d",
   "metadata": {
    "papermill": {
     "duration": 0.141216,
     "end_time": "2022-07-31T02:36:08.063730",
     "exception": false,
     "start_time": "2022-07-31T02:36:07.922514",
     "status": "completed"
    },
    "tags": []
   },
   "source": [
    "# Modeling"
   ]
  },
  {
   "cell_type": "code",
   "execution_count": 8,
   "id": "2c91684b",
   "metadata": {
    "execution": {
     "iopub.execute_input": "2022-07-31T02:36:08.315021Z",
     "iopub.status.busy": "2022-07-31T02:36:08.314472Z",
     "iopub.status.idle": "2022-07-31T02:36:08.326833Z",
     "shell.execute_reply": "2022-07-31T02:36:08.321852Z"
    },
    "papermill": {
     "duration": 0.143958,
     "end_time": "2022-07-31T02:36:08.331721",
     "exception": false,
     "start_time": "2022-07-31T02:36:08.187763",
     "status": "completed"
    },
    "tags": []
   },
   "outputs": [
    {
     "data": {
      "text/plain": [
       "(100, 100, 3)"
      ]
     },
     "execution_count": 8,
     "metadata": {},
     "output_type": "execute_result"
    }
   ],
   "source": [
    "train_scaled[0].shape"
   ]
  },
  {
   "cell_type": "code",
   "execution_count": 9,
   "id": "24d669e8",
   "metadata": {
    "execution": {
     "iopub.execute_input": "2022-07-31T02:36:08.567863Z",
     "iopub.status.busy": "2022-07-31T02:36:08.567385Z",
     "iopub.status.idle": "2022-07-31T02:36:11.527083Z",
     "shell.execute_reply": "2022-07-31T02:36:11.526087Z"
    },
    "papermill": {
     "duration": 3.060954,
     "end_time": "2022-07-31T02:36:11.529461",
     "exception": false,
     "start_time": "2022-07-31T02:36:08.468507",
     "status": "completed"
    },
    "tags": []
   },
   "outputs": [],
   "source": [
    "from tensorflow import keras\n",
    "\n",
    "model = keras.Sequential()\n",
    "model.add(keras.layers.Conv2D(32, kernel_size=3, activation='relu', padding='same', input_shape=train_scaled[0].shape ))\n",
    "model.add(keras.layers.MaxPooling2D(2))\n",
    "model.add(keras.layers.Conv2D(64, kernel_size=3, activation='relu', padding='same'))\n",
    "model.add(keras.layers.MaxPooling2D(2))\n",
    "model.add(keras.layers.Conv2D(64, kernel_size=3, activation='relu', padding='same'))\n",
    "\n",
    "model.add(keras.layers.Flatten())\n",
    "model.add(keras.layers.Dense(512, activation='relu'))\n",
    "model.add(keras.layers.Dropout(0.4))\n",
    "model.add(keras.layers.Dense(3, activation='softmax'))"
   ]
  },
  {
   "cell_type": "code",
   "execution_count": 10,
   "id": "f55e0aff",
   "metadata": {
    "execution": {
     "iopub.execute_input": "2022-07-31T02:36:11.686290Z",
     "iopub.status.busy": "2022-07-31T02:36:11.685922Z",
     "iopub.status.idle": "2022-07-31T02:36:11.692294Z",
     "shell.execute_reply": "2022-07-31T02:36:11.691288Z"
    },
    "papermill": {
     "duration": 0.089173,
     "end_time": "2022-07-31T02:36:11.696729",
     "exception": false,
     "start_time": "2022-07-31T02:36:11.607556",
     "status": "completed"
    },
    "tags": []
   },
   "outputs": [
    {
     "name": "stdout",
     "output_type": "stream",
     "text": [
      "Model: \"sequential\"\n",
      "_________________________________________________________________\n",
      "Layer (type)                 Output Shape              Param #   \n",
      "=================================================================\n",
      "conv2d (Conv2D)              (None, 100, 100, 32)      896       \n",
      "_________________________________________________________________\n",
      "max_pooling2d (MaxPooling2D) (None, 50, 50, 32)        0         \n",
      "_________________________________________________________________\n",
      "conv2d_1 (Conv2D)            (None, 50, 50, 64)        18496     \n",
      "_________________________________________________________________\n",
      "max_pooling2d_1 (MaxPooling2 (None, 25, 25, 64)        0         \n",
      "_________________________________________________________________\n",
      "conv2d_2 (Conv2D)            (None, 25, 25, 64)        36928     \n",
      "_________________________________________________________________\n",
      "flatten (Flatten)            (None, 40000)             0         \n",
      "_________________________________________________________________\n",
      "dense (Dense)                (None, 512)               20480512  \n",
      "_________________________________________________________________\n",
      "dropout (Dropout)            (None, 512)               0         \n",
      "_________________________________________________________________\n",
      "dense_1 (Dense)              (None, 3)                 1539      \n",
      "=================================================================\n",
      "Total params: 20,538,371\n",
      "Trainable params: 20,538,371\n",
      "Non-trainable params: 0\n",
      "_________________________________________________________________\n"
     ]
    }
   ],
   "source": [
    "model.summary()"
   ]
  },
  {
   "cell_type": "code",
   "execution_count": 11,
   "id": "72b8c608",
   "metadata": {
    "execution": {
     "iopub.execute_input": "2022-07-31T02:36:11.851942Z",
     "iopub.status.busy": "2022-07-31T02:36:11.850794Z",
     "iopub.status.idle": "2022-07-31T02:36:12.919742Z",
     "shell.execute_reply": "2022-07-31T02:36:12.918574Z"
    },
    "papermill": {
     "duration": 1.149125,
     "end_time": "2022-07-31T02:36:12.921989",
     "exception": false,
     "start_time": "2022-07-31T02:36:11.772864",
     "status": "completed"
    },
    "tags": []
   },
   "outputs": [
    {
     "data": {
      "image/png": "[encoded data removed]",
      "text/plain": [
       "<IPython.core.display.Image object>"
      ]
     },
     "execution_count": 11,
     "metadata": {},
     "output_type": "execute_result"
    }
   ],
   "source": [
    "keras.utils.plot_model(model, show_shapes=True)"
   ]
  },
  {
   "cell_type": "markdown",
   "id": "a0d80135",
   "metadata": {
    "papermill": {
     "duration": 0.080061,
     "end_time": "2022-07-31T02:36:13.082516",
     "exception": false,
     "start_time": "2022-07-31T02:36:13.002455",
     "status": "completed"
    },
    "tags": []
   },
   "source": [
    "# Compiling and Training"
   ]
  },
  {
   "cell_type": "code",
   "execution_count": 12,
   "id": "6f92ed95",
   "metadata": {
    "execution": {
     "iopub.execute_input": "2022-07-31T02:36:13.241176Z",
     "iopub.status.busy": "2022-07-31T02:36:13.240803Z",
     "iopub.status.idle": "2022-07-31T02:38:36.587718Z",
     "shell.execute_reply": "2022-07-31T02:38:36.586619Z"
    },
    "papermill": {
     "duration": 143.429094,
     "end_time": "2022-07-31T02:38:36.590164",
     "exception": false,
     "start_time": "2022-07-31T02:36:13.161070",
     "status": "completed"
    },
    "tags": []
   },
   "outputs": [
    {
     "name": "stdout",
     "output_type": "stream",
     "text": [
      "Epoch 1/50\n",
      "5/5 [==============================] - 10s 381ms/step - loss: 6.0213 - accuracy: 0.4143 - val_loss: 1.1940 - val_accuracy: 0.2959\n",
      "Epoch 2/50\n",
      "5/5 [==============================] - 1s 189ms/step - loss: 1.0862 - accuracy: 0.4188 - val_loss: 1.0011 - val_accuracy: 0.5468\n",
      "Epoch 3/50\n",
      "5/5 [==============================] - 1s 192ms/step - loss: 0.9929 - accuracy: 0.5611 - val_loss: 1.0102 - val_accuracy: 0.5468\n",
      "Epoch 4/50\n",
      "5/5 [==============================] - 1s 192ms/step - loss: 0.9751 - accuracy: 0.5620 - val_loss: 0.9704 - val_accuracy: 0.5468\n",
      "Epoch 5/50\n",
      "5/5 [==============================] - 1s 215ms/step - loss: 0.9601 - accuracy: 0.5632 - val_loss: 0.9632 - val_accuracy: 0.5468\n",
      "Epoch 6/50\n",
      "5/5 [==============================] - 1s 190ms/step - loss: 0.9515 - accuracy: 0.5630 - val_loss: 0.9601 - val_accuracy: 0.5468\n",
      "Epoch 7/50\n",
      "5/5 [==============================] - 1s 191ms/step - loss: 0.9389 - accuracy: 0.5648 - val_loss: 0.9514 - val_accuracy: 0.5590\n",
      "Epoch 8/50\n",
      "5/5 [==============================] - 1s 197ms/step - loss: 0.9308 - accuracy: 0.5787 - val_loss: 0.9473 - val_accuracy: 0.5543\n",
      "Epoch 9/50\n",
      "5/5 [==============================] - 1s 189ms/step - loss: 0.9118 - accuracy: 0.5852 - val_loss: 0.9397 - val_accuracy: 0.5609\n",
      "Epoch 10/50\n",
      "5/5 [==============================] - 1s 193ms/step - loss: 0.9029 - accuracy: 0.5843 - val_loss: 0.9245 - val_accuracy: 0.5730\n",
      "Epoch 11/50\n",
      "5/5 [==============================] - 1s 195ms/step - loss: 0.8862 - accuracy: 0.6018 - val_loss: 0.9110 - val_accuracy: 0.5974\n",
      "Epoch 12/50\n",
      "5/5 [==============================] - 1s 189ms/step - loss: 0.8987 - accuracy: 0.5974 - val_loss: 1.0399 - val_accuracy: 0.5515\n",
      "Epoch 13/50\n",
      "5/5 [==============================] - 1s 188ms/step - loss: 0.9074 - accuracy: 0.6032 - val_loss: 0.9472 - val_accuracy: 0.5581\n",
      "Epoch 14/50\n",
      "5/5 [==============================] - 1s 193ms/step - loss: 0.8825 - accuracy: 0.6018 - val_loss: 0.9177 - val_accuracy: 0.5787\n",
      "Epoch 15/50\n",
      "5/5 [==============================] - 1s 195ms/step - loss: 0.8599 - accuracy: 0.6112 - val_loss: 0.8890 - val_accuracy: 0.6011\n",
      "Epoch 16/50\n",
      "5/5 [==============================] - 1s 190ms/step - loss: 0.8444 - accuracy: 0.6224 - val_loss: 0.8824 - val_accuracy: 0.6058\n",
      "Epoch 17/50\n",
      "5/5 [==============================] - 1s 234ms/step - loss: 0.8234 - accuracy: 0.6309 - val_loss: 0.8836 - val_accuracy: 0.6039\n",
      "Epoch 18/50\n",
      "5/5 [==============================] - 1s 190ms/step - loss: 0.8137 - accuracy: 0.6341 - val_loss: 0.8691 - val_accuracy: 0.6152\n",
      "Epoch 19/50\n",
      "5/5 [==============================] - 1s 186ms/step - loss: 0.7989 - accuracy: 0.6430 - val_loss: 0.8913 - val_accuracy: 0.6030\n",
      "Epoch 20/50\n",
      "5/5 [==============================] - 1s 200ms/step - loss: 0.8017 - accuracy: 0.6409 - val_loss: 0.8758 - val_accuracy: 0.6152\n",
      "Epoch 21/50\n",
      "5/5 [==============================] - 1s 197ms/step - loss: 0.7847 - accuracy: 0.6503 - val_loss: 0.8981 - val_accuracy: 0.6049\n",
      "Epoch 22/50\n",
      "5/5 [==============================] - 1s 189ms/step - loss: 0.7825 - accuracy: 0.6522 - val_loss: 0.8479 - val_accuracy: 0.6283\n",
      "Epoch 23/50\n",
      "5/5 [==============================] - 1s 194ms/step - loss: 0.7483 - accuracy: 0.6716 - val_loss: 0.8481 - val_accuracy: 0.6227\n",
      "Epoch 24/50\n",
      "5/5 [==============================] - 1s 194ms/step - loss: 0.7306 - accuracy: 0.6816 - val_loss: 0.8512 - val_accuracy: 0.6330\n",
      "Epoch 25/50\n",
      "5/5 [==============================] - 1s 194ms/step - loss: 0.7165 - accuracy: 0.6950 - val_loss: 0.8453 - val_accuracy: 0.6498\n",
      "Epoch 26/50\n",
      "5/5 [==============================] - 1s 192ms/step - loss: 0.6906 - accuracy: 0.7086 - val_loss: 0.8372 - val_accuracy: 0.6479\n",
      "Epoch 27/50\n",
      "5/5 [==============================] - 1s 200ms/step - loss: 0.7106 - accuracy: 0.6898 - val_loss: 0.8354 - val_accuracy: 0.6414\n",
      "Epoch 28/50\n",
      "5/5 [==============================] - 1s 197ms/step - loss: 0.7100 - accuracy: 0.6978 - val_loss: 0.8351 - val_accuracy: 0.6461\n",
      "Epoch 29/50\n",
      "5/5 [==============================] - 1s 207ms/step - loss: 0.6828 - accuracy: 0.7008 - val_loss: 0.8592 - val_accuracy: 0.6573\n",
      "Epoch 30/50\n",
      "5/5 [==============================] - 1s 201ms/step - loss: 0.6534 - accuracy: 0.7254 - val_loss: 0.9854 - val_accuracy: 0.6180\n",
      "Epoch 31/50\n",
      "5/5 [==============================] - 1s 194ms/step - loss: 0.6611 - accuracy: 0.7235 - val_loss: 0.8606 - val_accuracy: 0.6517\n",
      "Epoch 32/50\n",
      "5/5 [==============================] - 1s 194ms/step - loss: 0.6298 - accuracy: 0.7397 - val_loss: 0.8244 - val_accuracy: 0.6592\n",
      "Epoch 33/50\n",
      "5/5 [==============================] - 1s 194ms/step - loss: 0.6057 - accuracy: 0.7481 - val_loss: 0.8467 - val_accuracy: 0.6479\n",
      "Epoch 34/50\n",
      "5/5 [==============================] - 1s 192ms/step - loss: 0.5870 - accuracy: 0.7554 - val_loss: 0.8296 - val_accuracy: 0.6564\n",
      "Epoch 35/50\n",
      "5/5 [==============================] - 1s 196ms/step - loss: 0.5789 - accuracy: 0.7666 - val_loss: 0.8159 - val_accuracy: 0.6704\n",
      "Epoch 36/50\n",
      "5/5 [==============================] - 1s 190ms/step - loss: 0.5656 - accuracy: 0.7694 - val_loss: 0.8559 - val_accuracy: 0.6629\n",
      "Epoch 37/50\n",
      "5/5 [==============================] - 1s 190ms/step - loss: 0.5472 - accuracy: 0.7779 - val_loss: 0.8343 - val_accuracy: 0.6573\n",
      "Epoch 38/50\n",
      "5/5 [==============================] - 1s 193ms/step - loss: 0.5173 - accuracy: 0.7919 - val_loss: 0.8544 - val_accuracy: 0.6404\n",
      "Epoch 39/50\n",
      "5/5 [==============================] - 1s 192ms/step - loss: 0.6025 - accuracy: 0.7498 - val_loss: 0.8449 - val_accuracy: 0.6564\n",
      "Epoch 40/50\n",
      "5/5 [==============================] - 1s 229ms/step - loss: 0.5453 - accuracy: 0.7938 - val_loss: 0.8308 - val_accuracy: 0.6423\n",
      "Epoch 41/50\n",
      "5/5 [==============================] - 1s 224ms/step - loss: 0.5163 - accuracy: 0.7949 - val_loss: 0.8591 - val_accuracy: 0.6470\n",
      "Epoch 42/50\n",
      "5/5 [==============================] - 1s 189ms/step - loss: 0.4849 - accuracy: 0.8078 - val_loss: 0.8647 - val_accuracy: 0.6629\n",
      "Epoch 43/50\n",
      "5/5 [==============================] - 1s 196ms/step - loss: 0.4623 - accuracy: 0.8198 - val_loss: 0.8679 - val_accuracy: 0.6564\n",
      "Epoch 44/50\n",
      "5/5 [==============================] - 1s 192ms/step - loss: 0.4361 - accuracy: 0.8350 - val_loss: 0.8987 - val_accuracy: 0.6610\n",
      "Epoch 45/50\n",
      "5/5 [==============================] - 1s 192ms/step - loss: 0.4222 - accuracy: 0.8399 - val_loss: 0.8992 - val_accuracy: 0.6648\n",
      "Epoch 46/50\n",
      "5/5 [==============================] - 1s 199ms/step - loss: 0.4117 - accuracy: 0.8397 - val_loss: 0.9001 - val_accuracy: 0.6536\n",
      "Epoch 47/50\n",
      "5/5 [==============================] - 1s 189ms/step - loss: 0.3999 - accuracy: 0.8523 - val_loss: 0.9051 - val_accuracy: 0.6330\n",
      "Epoch 48/50\n",
      "5/5 [==============================] - 1s 191ms/step - loss: 0.4184 - accuracy: 0.8352 - val_loss: 0.8639 - val_accuracy: 0.6601\n",
      "Epoch 49/50\n",
      "5/5 [==============================] - 1s 190ms/step - loss: 0.3711 - accuracy: 0.8682 - val_loss: 0.8913 - val_accuracy: 0.6451\n",
      "Epoch 50/50\n",
      "5/5 [==============================] - 1s 185ms/step - loss: 0.3618 - accuracy: 0.8701 - val_loss: 0.8914 - val_accuracy: 0.6451\n"
     ]
    }
   ],
   "source": [
    "model.compile(optimizer='Adam', loss='sparse_categorical_crossentropy', metrics='accuracy')\n",
    "checkpoint_cb = keras.callbacks.ModelCheckpoint('best-cnn-model.h5')\n",
    "# early_stopping_cb = keras.callbacks.EarlyStopping(patience=5, restore_best_weights=True)\n",
    "history = model.fit(train_scaled, train_target, epochs=50, batch_size=1000, validation_split=0.2, callbacks=[checkpoint_cb])\n",
    "# , early_stopping_cb"
   ]
  },
  {
   "cell_type": "code",
   "execution_count": 13,
   "id": "e87e246b",
   "metadata": {
    "execution": {
     "iopub.execute_input": "2022-07-31T02:38:36.789727Z",
     "iopub.status.busy": "2022-07-31T02:38:36.789325Z",
     "iopub.status.idle": "2022-07-31T02:38:36.795855Z",
     "shell.execute_reply": "2022-07-31T02:38:36.795001Z"
    },
    "papermill": {
     "duration": 0.108354,
     "end_time": "2022-07-31T02:38:36.797802",
     "exception": false,
     "start_time": "2022-07-31T02:38:36.689448",
     "status": "completed"
    },
    "tags": []
   },
   "outputs": [
    {
     "data": {
      "text/plain": [
       "dict_keys(['loss', 'accuracy', 'val_loss', 'val_accuracy'])"
      ]
     },
     "execution_count": 13,
     "metadata": {},
     "output_type": "execute_result"
    }
   ],
   "source": [
    "history.history.keys()"
   ]
  },
  {
   "cell_type": "code",
   "execution_count": 14,
   "id": "5176f85a",
   "metadata": {
    "execution": {
     "iopub.execute_input": "2022-07-31T02:38:36.994401Z",
     "iopub.status.busy": "2022-07-31T02:38:36.994059Z",
     "iopub.status.idle": "2022-07-31T02:38:37.200781Z",
     "shell.execute_reply": "2022-07-31T02:38:37.199880Z"
    },
    "papermill": {
     "duration": 0.30794,
     "end_time": "2022-07-31T02:38:37.202873",
     "exception": false,
     "start_time": "2022-07-31T02:38:36.894933",
     "status": "completed"
    },
    "tags": []
   },
   "outputs": [
    {
     "data": {
      "image/png": "[encoded data removed]",
      "text/plain": [
       "<Figure size 432x288 with 1 Axes>"
      ]
     },
     "metadata": {
      "needs_background": "light"
     },
     "output_type": "display_data"
    }
   ],
   "source": [
    "import matplotlib.pyplot as plt\n",
    "\n",
    "plt.plot(history.history['loss'])\n",
    "plt.plot(history.history['val_loss'])\n",
    "\n",
    "plt.xlabel('epoch')\n",
    "plt.ylabel('loss')\n",
    "\n",
    "plt.legend(['train', 'val'])\n",
    "plt.show()"
   ]
  },
  {
   "cell_type": "code",
   "execution_count": 15,
   "id": "49a31e13",
   "metadata": {
    "execution": {
     "iopub.execute_input": "2022-07-31T02:38:37.402606Z",
     "iopub.status.busy": "2022-07-31T02:38:37.402258Z",
     "iopub.status.idle": "2022-07-31T02:38:37.603862Z",
     "shell.execute_reply": "2022-07-31T02:38:37.602853Z"
    },
    "papermill": {
     "duration": 0.303338,
     "end_time": "2022-07-31T02:38:37.606412",
     "exception": false,
     "start_time": "2022-07-31T02:38:37.303074",
     "status": "completed"
    },
    "tags": []
   },
   "outputs": [
    {
     "data": {
      "image/png": "[encoded data removed]",
      "text/plain": [
       "<Figure size 432x288 with 1 Axes>"
      ]
     },
     "metadata": {
      "needs_background": "light"
     },
     "output_type": "display_data"
    }
   ],
   "source": [
    "plt.plot(history.history['accuracy'])\n",
    "plt.plot(history.history['val_accuracy'])\n",
    "\n",
    "plt.xlabel('epoch')\n",
    "plt.ylabel('accuracy')\n",
    "\n",
    "plt.legend(['train', 'val'])\n",
    "plt.show()"
   ]
  },
  {
   "cell_type": "markdown",
   "id": "c6fa2757",
   "metadata": {
    "papermill": {
     "duration": 0.098516,
     "end_time": "2022-07-31T02:38:37.804210",
     "exception": false,
     "start_time": "2022-07-31T02:38:37.705694",
     "status": "completed"
    },
    "tags": []
   },
   "source": [
    "# Submit"
   ]
  },
  {
   "cell_type": "code",
   "execution_count": 16,
   "id": "11c16a84",
   "metadata": {
    "execution": {
     "iopub.execute_input": "2022-07-31T02:38:38.006007Z",
     "iopub.status.busy": "2022-07-31T02:38:38.005247Z",
     "iopub.status.idle": "2022-07-31T02:38:38.020978Z",
     "shell.execute_reply": "2022-07-31T02:38:38.020113Z"
    },
    "papermill": {
     "duration": 0.11961,
     "end_time": "2022-07-31T02:38:38.023101",
     "exception": false,
     "start_time": "2022-07-31T02:38:37.903491",
     "status": "completed"
    },
    "tags": []
   },
   "outputs": [],
   "source": [
    "sample_submission = pd.read_csv(os.path.join(BASE_DIR, 'SampleSubmission.csv'))"
   ]
  },
  {
   "cell_type": "code",
   "execution_count": 17,
   "id": "0dbae3c6",
   "metadata": {
    "execution": {
     "iopub.execute_input": "2022-07-31T02:38:38.224714Z",
     "iopub.status.busy": "2022-07-31T02:38:38.224329Z",
     "iopub.status.idle": "2022-07-31T02:38:48.886795Z",
     "shell.execute_reply": "2022-07-31T02:38:48.885601Z"
    },
    "papermill": {
     "duration": 10.764994,
     "end_time": "2022-07-31T02:38:48.889255",
     "exception": false,
     "start_time": "2022-07-31T02:38:38.124261",
     "status": "completed"
    },
    "tags": []
   },
   "outputs": [
    {
     "name": "stderr",
     "output_type": "stream",
     "text": [
      "100%|██████████| 1145/1145 [00:10<00:00, 108.04it/s]\n"
     ]
    }
   ],
   "source": [
    "img_height = 100\n",
    "img_width = 100\n",
    "\n",
    "test_scaled = []\n",
    "\n",
    "for i in tqdm(range(sample_submission.shape[0])):\n",
    "  path = os.path.join(BASE_DIR, 'Images/') + sample_submission['Image_id'][i]\n",
    "  img = image.load_img(path, target_size=(img_height, img_width, 3))\n",
    "  img = image.img_to_array(img)\n",
    "  img = img/255.0\n",
    "  test_scaled.append(img)\n",
    "\n",
    "test_scaled = np.array(test_scaled)"
   ]
  },
  {
   "cell_type": "code",
   "execution_count": 18,
   "id": "6e20575f",
   "metadata": {
    "execution": {
     "iopub.execute_input": "2022-07-31T02:38:49.099301Z",
     "iopub.status.busy": "2022-07-31T02:38:49.098936Z",
     "iopub.status.idle": "2022-07-31T02:38:49.645440Z",
     "shell.execute_reply": "2022-07-31T02:38:49.644420Z"
    },
    "papermill": {
     "duration": 0.653779,
     "end_time": "2022-07-31T02:38:49.647736",
     "exception": false,
     "start_time": "2022-07-31T02:38:48.993957",
     "status": "completed"
    },
    "tags": []
   },
   "outputs": [
    {
     "name": "stdout",
     "output_type": "stream",
     "text": [
      "[[9.3514180e-01 6.4230375e-02 6.2781904e-04]\n",
      " [5.0497937e-01 4.5990953e-01 3.5111096e-02]\n",
      " [2.4516959e-02 2.3832583e-01 7.3715723e-01]\n",
      " ...\n",
      " [3.1542718e-02 9.3902278e-01 2.9434515e-02]\n",
      " [6.3972729e-01 2.9692438e-01 6.3348345e-02]\n",
      " [9.6387613e-01 1.8183883e-02 1.7940082e-02]]\n"
     ]
    }
   ],
   "source": [
    "y_prob = model.predict(test_scaled)\n",
    "print(y_prob)"
   ]
  },
  {
   "cell_type": "code",
   "execution_count": 19,
   "id": "cbcb2d5b",
   "metadata": {
    "execution": {
     "iopub.execute_input": "2022-07-31T02:38:49.912695Z",
     "iopub.status.busy": "2022-07-31T02:38:49.912346Z",
     "iopub.status.idle": "2022-07-31T02:38:49.942773Z",
     "shell.execute_reply": "2022-07-31T02:38:49.941727Z"
    },
    "papermill": {
     "duration": 0.137176,
     "end_time": "2022-07-31T02:38:49.945037",
     "exception": false,
     "start_time": "2022-07-31T02:38:49.807861",
     "status": "completed"
    },
    "tags": []
   },
   "outputs": [
    {
     "data": {
      "text/html": [
       "<div>\n",
       "<style scoped>\n",
       "    .dataframe tbody tr th:only-of-type {\n",
       "        vertical-align: middle;\n",
       "    }\n",
       "\n",
       "    .dataframe tbody tr th {\n",
       "        vertical-align: top;\n",
       "    }\n",
       "\n",
       "    .dataframe thead th {\n",
       "        text-align: right;\n",
       "    }\n",
       "</style>\n",
       "<table border=\"1\" class=\"dataframe\">\n",
       "  <thead>\n",
       "    <tr style=\"text-align: right;\">\n",
       "      <th></th>\n",
       "      <th>Image_id</th>\n",
       "      <th>blast</th>\n",
       "      <th>brown</th>\n",
       "      <th>healthy</th>\n",
       "    </tr>\n",
       "  </thead>\n",
       "  <tbody>\n",
       "    <tr>\n",
       "      <th>0</th>\n",
       "      <td>id_00vl5wvxq3.jpg</td>\n",
       "      <td>0.935142</td>\n",
       "      <td>0.064230</td>\n",
       "      <td>0.000628</td>\n",
       "    </tr>\n",
       "    <tr>\n",
       "      <th>1</th>\n",
       "      <td>id_01hu05mtch.jpg</td>\n",
       "      <td>0.504979</td>\n",
       "      <td>0.459910</td>\n",
       "      <td>0.035111</td>\n",
       "    </tr>\n",
       "    <tr>\n",
       "      <th>2</th>\n",
       "      <td>id_030ln10ewn.jpg</td>\n",
       "      <td>0.024517</td>\n",
       "      <td>0.238326</td>\n",
       "      <td>0.737157</td>\n",
       "    </tr>\n",
       "    <tr>\n",
       "      <th>3</th>\n",
       "      <td>id_03z57m8xht.jpg</td>\n",
       "      <td>0.872496</td>\n",
       "      <td>0.025286</td>\n",
       "      <td>0.102218</td>\n",
       "    </tr>\n",
       "    <tr>\n",
       "      <th>4</th>\n",
       "      <td>id_04ngep1w4b.jpg</td>\n",
       "      <td>0.912940</td>\n",
       "      <td>0.078191</td>\n",
       "      <td>0.008869</td>\n",
       "    </tr>\n",
       "  </tbody>\n",
       "</table>\n",
       "</div>"
      ],
      "text/plain": [
       "            Image_id     blast     brown   healthy\n",
       "0  id_00vl5wvxq3.jpg  0.935142  0.064230  0.000628\n",
       "1  id_01hu05mtch.jpg  0.504979  0.459910  0.035111\n",
       "2  id_030ln10ewn.jpg  0.024517  0.238326  0.737157\n",
       "3  id_03z57m8xht.jpg  0.872496  0.025286  0.102218\n",
       "4  id_04ngep1w4b.jpg  0.912940  0.078191  0.008869"
      ]
     },
     "execution_count": 19,
     "metadata": {},
     "output_type": "execute_result"
    }
   ],
   "source": [
    "sample_submission.loc[:, [\"blast\", \"brown\", \"healthy\"]] = y_prob\n",
    "sample_submission.to_csv(\"submission.csv\", index=False)\n",
    "sample_submission.head()"
   ]
  },
  {
   "cell_type": "markdown",
   "id": "1877685c",
   "metadata": {
    "papermill": {
     "duration": 0.103967,
     "end_time": "2022-07-31T02:38:50.153611",
     "exception": false,
     "start_time": "2022-07-31T02:38:50.049644",
     "status": "completed"
    },
    "tags": []
   },
   "source": [
    "**SCORE: 0.7192128478935046**"
   ]
  },
  {
   "cell_type": "code",
   "execution_count": null,
   "id": "608378e5",
   "metadata": {
    "papermill": {
     "duration": 0.102711,
     "end_time": "2022-07-31T02:38:50.358504",
     "exception": false,
     "start_time": "2022-07-31T02:38:50.255793",
     "status": "completed"
    },
    "tags": []
   },
   "outputs": [],
   "source": []
  }
 ],
 "metadata": {
  "kernelspec": {
   "display_name": "Python 3",
   "language": "python",
   "name": "python3"
  },
  "language_info": {
   "codemirror_mode": {
    "name": "ipython",
    "version": 3
   },
   "file_extension": ".py",
   "mimetype": "text/x-python",
   "name": "python",
   "nbconvert_exporter": "python",
   "pygments_lexer": "ipython3",
   "version": "3.7.12"
  },
  "papermill": {
   "default_parameters": {},
   "duration": 329.55702,
   "end_time": "2022-07-31T02:38:54.147723",
   "environment_variables": {},
   "exception": null,
   "input_path": "__notebook__.ipynb",
   "output_path": "__notebook__.ipynb",
   "parameters": {},
   "start_time": "2022-07-31T02:33:24.590703",
   "version": "2.3.4"
  }
 },
 "nbformat": 4,
 "nbformat_minor": 5
}
